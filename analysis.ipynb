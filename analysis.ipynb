{
 "cells": [
  {
   "cell_type": "markdown",
   "metadata": {
    "_uuid": "2986cdece45aec6cc9a958e181c68c0743997c6e"
   },
   "source": [
    "# How competitive are Korean universities "
   ]
  },
  {
   "cell_type": "markdown",
   "metadata": {
    "_uuid": "773ec412e8c34f28e9d9c30aa53362d1b7cdce35"
   },
   "source": [
    "![111](http://www.studyinchina.com.my/web/uploads/Rankings/Asian-university-ranking1.jpg)\n",
    "![The well known 3 univeristies in South Korea](https://1.bp.blogspot.com/-07HlijnksLU/WWEMgEkZDPI/AAAAAAAABog/G2tF0llOc-Ixp9R9ZGXnjxazqtjeHWIeACLcBGAs/s1600/htm_2017021055542546082.jpg)"
   ]
  },
  {
   "cell_type": "markdown",
   "metadata": {
    "_uuid": "30fd99c29943a72f2625c53d245cd2708714980c"
   },
   "source": [
    "Based on CWUR([Center for World University Rankings](http://cwur.org)), I am going to compare the universities in Asia and S.Korea especially to figure out their competitiveness \n",
    "\n",
    "In order to visualize more effectively, I refer to the plotly kernel by Kaan Can ([Plotly Tutorial for Beginners](https://www.kaggle.com/kanncaa1/plotly-tutorial-for-beginners))<br/>\n",
    "\n",
    "1. Data collection\n",
    "2. Domestic measures\n",
    "    * Top 10 Universities in Korea during 2014 - 2015\n",
    "   \n",
    "3. Comparisonal measures \n",
    "    * Worldwide\n",
    "    * Comparison with Japan and China\n",
    "    * Top universities of South Korea, Japan and China in the world\n",
    "    \n",
    "4. Conclusion \n",
    "  \n",
    "\n",
    "\n"
   ]
  },
  {
   "cell_type": "markdown",
   "metadata": {
    "_uuid": "9bd094a30abf92f2a83f696a140b2cc8301c548c"
   },
   "source": []
  },
  {
   "cell_type": "markdown",
   "metadata": {
    "_uuid": "213532950e44bb8584024ac5f9dd6e3ace9d3f42"
   },
   "source": [
    "# 1. Data collection"
   ]
  },
  {
   "cell_type": "code",
   "execution_count": 1,
   "metadata": {
    "_cell_guid": "b1076dfc-b9ad-4769-8c92-a6c4dae69d19",
    "_uuid": "8f2839f25d086af736a60e9eeb907d3b93b6e0e5"
   },
   "outputs": [
    {
     "ename": "ModuleNotFoundError",
     "evalue": "No module named 'plotly'",
     "output_type": "error",
     "traceback": [
      "\u001b[0;31m---------------------------------------------------------------------------\u001b[0m",
      "\u001b[0;31mModuleNotFoundError\u001b[0m                       Traceback (most recent call last)",
      "\u001b[0;32m<ipython-input-1-4cb18ad8acc9>\u001b[0m in \u001b[0;36m<module>\u001b[0;34m()\u001b[0m\n\u001b[1;32m      7\u001b[0m \u001b[0;34m\u001b[0m\u001b[0m\n\u001b[1;32m      8\u001b[0m \u001b[0;31m#plotly\u001b[0m\u001b[0;34m\u001b[0m\u001b[0;34m\u001b[0m\u001b[0m\n\u001b[0;32m----> 9\u001b[0;31m \u001b[0;32mimport\u001b[0m \u001b[0mplotly\u001b[0m\u001b[0;34m.\u001b[0m\u001b[0mplotly\u001b[0m \u001b[0;32mas\u001b[0m \u001b[0mpy\u001b[0m\u001b[0;34m\u001b[0m\u001b[0m\n\u001b[0m\u001b[1;32m     10\u001b[0m \u001b[0;32mfrom\u001b[0m \u001b[0mplotly\u001b[0m\u001b[0;34m.\u001b[0m\u001b[0moffline\u001b[0m \u001b[0;32mimport\u001b[0m \u001b[0minit_notebook_mode\u001b[0m\u001b[0;34m,\u001b[0m \u001b[0miplot\u001b[0m\u001b[0;34m\u001b[0m\u001b[0m\n\u001b[1;32m     11\u001b[0m \u001b[0minit_notebook_mode\u001b[0m\u001b[0;34m(\u001b[0m\u001b[0mconnected\u001b[0m\u001b[0;34m=\u001b[0m\u001b[0;32mTrue\u001b[0m\u001b[0;34m)\u001b[0m\u001b[0;34m\u001b[0m\u001b[0m\n",
      "\u001b[0;31mModuleNotFoundError\u001b[0m: No module named 'plotly'"
     ]
    }
   ],
   "source": [
    "# This Python 3 environment comes with many helpful analytics libraries installed\n",
    "# It is defined by the kaggle/python docker image: https://github.com/kaggle/docker-python\n",
    "# For example, here's several helpful packages to load in \n",
    "\n",
    "import numpy as np # linear algebra\n",
    "import pandas as pd # data processing, CSV file I/O (e.g. pd.read_csv)\n",
    "\n",
    "#plotly\n",
    "import plotly.plotly as py\n",
    "from plotly.offline import init_notebook_mode, iplot\n",
    "init_notebook_mode(connected=True)\n",
    "from plotly import tools\n",
    "import plotly.graph_objs as go\n",
    "\n",
    "# word cloud library\n",
    "from wordcloud import WordCloud\n",
    "\n",
    "# matplotlib\n",
    "import matplotlib.pyplot as plt\n",
    "# Input data files are available in the \"../input/\" directory.\n",
    "# For example, running this (by clicking run or pressing Shift+Enter) will list the files in the input directory\n",
    "\n",
    "import os\n",
    "print(os.listdir(\"../input\"))\n",
    "\n",
    "# Any results you write to the current directory are saved as output."
   ]
  },
  {
   "cell_type": "code",
   "execution_count": null,
   "metadata": {
    "_uuid": "95eea7ef7e5e609d7edd3f7a7b7bcc37df33ff44"
   },
   "outputs": [],
   "source": [
    "cwur = pd.read_csv(\"../input/cwurData.csv\")\n",
    "cwur.head()"
   ]
  },
  {
   "cell_type": "code",
   "execution_count": null,
   "metadata": {
    "_uuid": "aa4edd0a4eee04fdf66526721f954f88877dd02d"
   },
   "outputs": [],
   "source": [
    "#Prepare dataset for cwur\n",
    "cwur12_kr = cwur.loc[(cwur['year'] == 2012) & (cwur['country']=='South Korea')]\n",
    "cwur13_kr = cwur.loc[(cwur['year'] == 2013) & (cwur['country']=='South Korea')]\n",
    "cwur14_kr = cwur.loc[(cwur['year'] == 2014) & (cwur['country']=='South Korea')]\n",
    "cwur15_kr = cwur.loc[(cwur['year'] == 2015) & (cwur['country']=='South Korea')]"
   ]
  },
  {
   "cell_type": "code",
   "execution_count": null,
   "metadata": {
    "_uuid": "008eefcc8766dd75a4be3faf9f87deda3c8988a1"
   },
   "outputs": [],
   "source": [
    "cwur12_kr"
   ]
  },
  {
   "cell_type": "code",
   "execution_count": null,
   "metadata": {
    "_uuid": "2907284107f602cc9734ff5de5e13996512d5395"
   },
   "outputs": [],
   "source": [
    "cwur13_kr"
   ]
  },
  {
   "cell_type": "markdown",
   "metadata": {
    "_uuid": "25266e985ee27f1a935864e55b92d626d33dd963"
   },
   "source": [
    "> Since the data of 2012 and 2013 in South Korea has only one, I will drop it to analysis"
   ]
  },
  {
   "cell_type": "code",
   "execution_count": null,
   "metadata": {
    "_uuid": "68e6f4f7678edd510d24fd9849ce65a9591a23cb"
   },
   "outputs": [],
   "source": [
    "#sort by national rank for each year\n",
    "cwur14_kr.sort_values(by=\"national_rank\", ascending=False)\n",
    "cwur15_kr.sort_values(by=\"national_rank\", ascending=False)\n",
    "cwur15_kr.head()"
   ]
  },
  {
   "cell_type": "markdown",
   "metadata": {
    "_uuid": "18ad87bc1977b8d2621ff870510b52222e8bc68d"
   },
   "source": [
    "# 2. Domestic measures"
   ]
  },
  {
   "cell_type": "markdown",
   "metadata": {
    "_uuid": "c68ce020571f224c37f82b3ce2c883ec8ab14616"
   },
   "source": [
    "> ## Top 10 Universities in Korea during 2014 - 2015"
   ]
  },
  {
   "cell_type": "code",
   "execution_count": null,
   "metadata": {
    "_uuid": "65291bdce3a13486f2ddb097812aa9b949fd55d8"
   },
   "outputs": [],
   "source": [
    "# create trace1 \n",
    "trace1 = go.Bar(\n",
    "                x = cwur14_kr.institution.head(15),\n",
    "                y = cwur14_kr.national_rank.head(15),\n",
    "                name = \"2014\",\n",
    "                marker = dict(color = 'rgba(255, 174, 255, 0.5)',\n",
    "                             line=dict(color='rgb(0,0,0)',width=1.5)),\n",
    "                text = cwur14_kr.world_rank)\n",
    "# create trace2 \n",
    "trace2 = go.Bar(\n",
    "                x = cwur15_kr.institution.head(15),\n",
    "                y = cwur15_kr.national_rank.head(15),\n",
    "                name = \"2015\",\n",
    "                marker = dict(color = 'rgba(255, 255, 128, 0.5)',\n",
    "                              line=dict(color='rgb(0,0,0)',width=1.5)),\n",
    "                text = cwur15_kr.world_rank\n",
    "                )\n",
    "layout = go.Layout(\n",
    "    title='Top 10 universities in South Korea 2014-2015 by CWUR',\n",
    "    xaxis=dict(\n",
    "        tickfont=dict(\n",
    "            size=11,\n",
    "            color='rgb(107, 107, 107)'\n",
    "        )\n",
    "    ),\n",
    "    yaxis=dict(\n",
    "        title='National rank',\n",
    "        titlefont=dict(\n",
    "            size=14,\n",
    "            color='rgb(107, 107, 107)'\n",
    "        )\n",
    "    ),\n",
    "    barmode='group',\n",
    "    bargap=0.2,\n",
    "    bargroupgap=0.2\n",
    ")\n",
    "\n",
    "data = [trace1, trace2]\n",
    "fig = go.Figure(data = data, layout = layout)\n",
    "iplot(fig)"
   ]
  },
  {
   "cell_type": "markdown",
   "metadata": {
    "_uuid": "9840b23697f1183c6e8f5800c87cf0b65f9586cb"
   },
   "source": [
    "It seems like not much changes for Top 10 while EWU and CNU has swapped each other for the 10th place.<br/>\n",
    "Let's dive into each year of Top 10 universities to see the competitveness in all over the world"
   ]
  },
  {
   "cell_type": "markdown",
   "metadata": {
    "_uuid": "d410ada1cc9e734a360c8aad64401a29bc0876a5"
   },
   "source": [
    "# 3. Comparisonal measures "
   ]
  },
  {
   "cell_type": "markdown",
   "metadata": {
    "_uuid": "8fb62ab12f67408023e4ee955d890e0af3f8d425"
   },
   "source": [
    "> ## Worldwide"
   ]
  },
  {
   "cell_type": "markdown",
   "metadata": {
    "_uuid": "50d30b43018aad3401386d423ea33fc2d99cf568"
   },
   "source": [
    "Let's see the number of universities out of top 400 by each country to figure out which position korea is located in."
   ]
  },
  {
   "cell_type": "code",
   "execution_count": null,
   "metadata": {
    "_uuid": "fe0f0f0191c5c5acb7b5bb62a0f2615404b0c234"
   },
   "outputs": [],
   "source": [
    "#prepare the top 400 Universities in each year\n",
    "top400_14 = cwur.loc[(cwur['year'] == 2014) & (cwur['world_rank'] < 401)]\n",
    "top400_15 = cwur.loc[(cwur['year'] == 2015) & (cwur['world_rank'] < 401)]"
   ]
  },
  {
   "cell_type": "code",
   "execution_count": null,
   "metadata": {
    "_uuid": "fff906a0fe72b90b2b7396328267b6d524918f7d"
   },
   "outputs": [],
   "source": [
    "#count out of top 400 by country in 2014                   \n",
    "count_by_country14 = top400_14.groupby('country')['world_rank'].count()\n",
    "count_by_country14.sort_values(na_position='last', inplace=True, ascending=False)\n",
    "\n",
    "#count out of top 400 by country in 2015                   \n",
    "count_by_country15 = top400_15.groupby('country')['world_rank'].count()\n",
    "count_by_country15.sort_values(na_position='last', inplace=True, ascending=False)\n",
    "\n",
    "#여기까지 시리즈\n",
    "count_by_country15.head()"
   ]
  },
  {
   "cell_type": "markdown",
   "metadata": {
    "_uuid": "32dfc802cc896e0792c4bb01036dbc60e8eaec05"
   },
   "source": [
    "Let's create multiple charts to figure out easily!"
   ]
  },
  {
   "cell_type": "code",
   "execution_count": null,
   "metadata": {
    "_uuid": "a26d353b219a69b5d321ee9c9a46139d19816946"
   },
   "outputs": [],
   "source": [
    "count_14 = count_by_country14.head(10)\n",
    "count_15 = count_by_country15.head(10)\n",
    "\n",
    "#to list\n",
    "y_country14 = count_14.index.tolist()\n",
    "y_country15 = count_15.index.tolist()\n",
    "x_count14 = count_14.values.tolist()\n",
    "x_count15 = count_15.values.tolist()"
   ]
  },
  {
   "cell_type": "code",
   "execution_count": null,
   "metadata": {
    "_uuid": "723befd30a27ccaa1f1a82e24997450c34ae940a"
   },
   "outputs": [],
   "source": [
    "#trace0_2014\n",
    "trace0 = go.Bar(\n",
    "                x=x_count14,\n",
    "                y=y_country14,\n",
    "                marker=dict(color='rgba(171, 50, 96, 0.6)'),\n",
    "                name='2014',\n",
    "                orientation='h',\n",
    ")\n",
    "\n",
    "#trace1_2015\n",
    "trace1 = go.Bar(\n",
    "                x=x_count15,\n",
    "                y=y_country15,\n",
    "                marker=dict(color='rgba(12, 50, 196, 0.6)'),\n",
    "                name='2015',\n",
    "                orientation='h',\n",
    ")\n",
    "\n",
    "#layout\n",
    "layout = dict(\n",
    "                title='The number of Universitity in Top 400 by country',\n",
    "                yaxis=dict(showticklabels=True,domain=[0, 0.85],autorange='reversed'),\n",
    "                yaxis2=dict(showline=True,showticklabels=False,linecolor='rgba(102, 102, 102, 0.8)',linewidth=2,domain=[0, 0.85],autorange='reversed'),\n",
    "                xaxis=dict(zeroline=False,showline=False,showticklabels=True,showgrid=True),\n",
    "                xaxis2=dict(zeroline=False,showline=False,showticklabels=True,showgrid=True),\n",
    "                margin=dict(l=200, r=20,t=70,b=70),\n",
    "                paper_bgcolor='rgb(248, 248, 255)',\n",
    "                plot_bgcolor='rgb(248, 248, 255)',\n",
    ")\n",
    "\n",
    "# Creating two subplots\n",
    "fig = tools.make_subplots(rows=1, cols=2)\n",
    "fig.append_trace(trace0, 1, 1)\n",
    "fig.append_trace(trace1, 1, 2)\n",
    "\n",
    "fig['layout'].update(layout)\n",
    "iplot(fig)"
   ]
  },
  {
   "cell_type": "code",
   "execution_count": null,
   "metadata": {
    "_uuid": "211432df30f3088dad3cb17dd5b0b6e393a29d95"
   },
   "outputs": [],
   "source": [
    "#prepare the top 400 Universities in each year\n",
    "top100_14 = cwur.loc[(cwur['year'] == 2014) & (cwur['world_rank'] < 101)]\n",
    "top100_15 = cwur.loc[(cwur['year'] == 2015) & (cwur['world_rank'] < 101)]\n",
    "\n",
    "#count out of top 100 by country in 2014                   \n",
    "count100_by_country14 = top100_14.groupby('country')['world_rank'].count()\n",
    "count100_by_country14.sort_values(na_position='last', inplace=True, ascending=False)\n",
    "\n",
    "#count out of top 100 by country in 2015                   \n",
    "count100_by_country15 = top100_15.groupby('country')['world_rank'].count()\n",
    "count100_by_country15.sort_values(na_position='last', inplace=True, ascending=False)\n",
    "\n",
    "count100_14 = count100_by_country14.head(12)\n",
    "count100_15 = count100_by_country15.head(12)\n",
    "\n",
    "#to list\n",
    "y100_country14 = count100_14.index.tolist()\n",
    "y100_country15 = count100_15.index.tolist()\n",
    "x100_count14 = count100_14.values.tolist()\n",
    "x100_count15 = count100_15.values.tolist()\n",
    "\n",
    "#trace0_2014\n",
    "trace0 = go.Bar(\n",
    "                x=x100_count14,\n",
    "                y=y100_country14,\n",
    "                marker=dict(color='rgba(171, 50, 96, 0.6)'),\n",
    "                name='2014',\n",
    "                orientation='h',\n",
    ")\n",
    "\n",
    "#trace1_2015\n",
    "trace1 = go.Bar(\n",
    "                x=x100_count15,\n",
    "                y=y100_country15,\n",
    "                marker=dict(color='rgba(12, 50, 196, 0.6)'),\n",
    "                name='2015',\n",
    "                orientation='h',\n",
    ")\n",
    "\n",
    "#layout\n",
    "layout = dict(\n",
    "                title='The number of Universitity in Top 100 by country',\n",
    "                yaxis=dict(showticklabels=True,domain=[0, 0.85],autorange='reversed'),\n",
    "                yaxis2=dict(showline=True,showticklabels=False,linecolor='rgba(102, 102, 102, 0.8)',linewidth=2,domain=[0, 0.85],autorange='reversed'),\n",
    "                xaxis=dict(zeroline=False,showline=False,showticklabels=True,showgrid=True),\n",
    "                xaxis2=dict(zeroline=False,showline=False,showticklabels=True,showgrid=True),\n",
    "                margin=dict(l=200, r=20,t=70,b=70),\n",
    "                paper_bgcolor='rgb(248, 248, 255)',\n",
    "                plot_bgcolor='rgb(248, 248, 255)',\n",
    ")\n",
    "\n",
    "# Creating two subplots\n",
    "fig = tools.make_subplots(rows=1, cols=2)\n",
    "fig.append_trace(trace0, 1, 1)\n",
    "fig.append_trace(trace1, 1, 2)\n",
    "\n",
    "fig['layout'].update(layout)\n",
    "iplot(fig)"
   ]
  },
  {
   "cell_type": "markdown",
   "metadata": {
    "_uuid": "c57f0d65aafbedcef9a969e89a4d061a0234ea7c"
   },
   "source": [
    "\n",
    " \n",
    "> ## Comparison with Japan and China**"
   ]
  },
  {
   "cell_type": "markdown",
   "metadata": {
    "_uuid": "69f734df038d0139b44d9dcac9c2b2e42e165c65"
   },
   "source": [
    "Korea is the 9th of the number of universities in Top 400 of the world.<br/>\n",
    "In compared with other asian countries like China and Japan, S.Korea is behind of them.<br/>\n",
    "\n",
    "#### # of universities on Top 400 in the world\n",
    "* South Korea \n",
    "    * 12 -> 11\n",
    "* Chinea \n",
    "    * 13 -> 16\n",
    "* Japan \n",
    "    * 18 -> 15\n",
    "    \n",
    "#### # of universities on Top 100 in the world\n",
    "* South Korea \n",
    "    * 1 -> 2\n",
    "* Chinea \n",
    "    * 2 -> 2\n",
    "* Japan \n",
    "    * 8 -> 7"
   ]
  },
  {
   "cell_type": "markdown",
   "metadata": {
    "_uuid": "4cbef7630bcdeee2c9e42365c9c1929f303cdf2b"
   },
   "source": [
    "In general, SNU(Seoul National University), PU(Peking University), UT(University of Tokyo) are well-known university in each country.<br/>\n",
    "Let's compare those universities."
   ]
  },
  {
   "cell_type": "markdown",
   "metadata": {
    "_uuid": "55fda6545e7a9721d6c6ee5ee28463d32d6b4b85"
   },
   "source": [
    "> ## Top university of South Korea, Japan and China"
   ]
  },
  {
   "cell_type": "code",
   "execution_count": null,
   "metadata": {
    "_uuid": "c29c05f34a362785a7d08dc9573071c5d4214271"
   },
   "outputs": [],
   "source": [
    "# prepare data frame\n",
    "pu = cwur[cwur['institution'] =='Peking University']\n",
    "snu = cwur[cwur['institution'] =='Seoul National University']\n",
    "ut = cwur[cwur['institution'] =='University of Tokyo']\n",
    "\n",
    "# Creating trace1\n",
    "trace1 = go.Scatter(\n",
    "                    x = pu.year,\n",
    "                    y = pu.score,\n",
    "                    mode = \"lines+markers\",\n",
    "                    name = \"Peking University(CHN)\",\n",
    "                    marker = dict(color = 'rgb(171, 50, 96)'),\n",
    "                    text= pu.world_rank)\n",
    "# Creating trace2\n",
    "trace2 = go.Scatter(\n",
    "                    x = snu.year,\n",
    "                    y = snu.score,\n",
    "                    mode = \"lines+markers\",\n",
    "                    name = \"Seoul National University(KOR)\",\n",
    "                    marker = dict(color = 'rgb(50, 96, 171)'),\n",
    "                    text= snu.world_rank)\n",
    "\n",
    "trace3 = go.Scatter(\n",
    "                    x = ut.year,\n",
    "                    y = ut.score,\n",
    "                    mode = \"lines+markers\",\n",
    "                    name = \"University of Tokyo(JPN)\",\n",
    "                    marker = dict(color = 'rgb(50, 171, 96)'),\n",
    "                    text= ut.world_rank)\n",
    "\n",
    "data = [trace1, trace2, trace3]\n",
    "layout = dict(title = 'Top univerisity of S.Korea, Japan and China',\n",
    "              xaxis= dict(title= 'Year',zeroline= False,dtick=1),\n",
    "              yaxis= dict(title= 'Score',zeroline= False)\n",
    "             )\n",
    "\n",
    "fig = dict(data = data, layout = layout)\n",
    "iplot(fig)\n"
   ]
  },
  {
   "cell_type": "markdown",
   "metadata": {
    "_uuid": "6f4e555278afc1cea4de00d0baf39e6d0f919611"
   },
   "source": [
    "Even though University of Tokyo's rank is way higher than SNU and PU, SNU is getting higher for the past 4 years."
   ]
  },
  {
   "cell_type": "code",
   "execution_count": null,
   "metadata": {
    "_uuid": "75abd6c925f91231debfdc1cca62db2f7cba5038"
   },
   "outputs": [],
   "source": [
    "pu.head()"
   ]
  },
  {
   "cell_type": "code",
   "execution_count": null,
   "metadata": {
    "_uuid": "2d199f5f8273b9a6a47d5d9868a252af2b807655"
   },
   "outputs": [],
   "source": [
    "snu.head()"
   ]
  },
  {
   "cell_type": "code",
   "execution_count": null,
   "metadata": {
    "_uuid": "5810cc56d61463afa9a6d4d13acc119b02f0ef3f"
   },
   "outputs": [],
   "source": [
    "ut.head()"
   ]
  },
  {
   "cell_type": "markdown",
   "metadata": {
    "_uuid": "8d43f2a85f5f591c7224dee21561a66a965cce33",
    "collapsed": true
   },
   "source": [
    "* ### Conclusion\n",
    "\n",
    "In terms of world ranking, south kore is leaving behind of Japan and China out of Top 100.<br/>\n",
    "It's needed to be digging into which sector affects to the result. <br/>\n",
    "\n",
    "In case of Korean univerisities, there is not much difference between 2014 and 2015\n"
   ]
  }
 ],
 "metadata": {
  "kernelspec": {
   "display_name": "Python 3",
   "language": "python",
   "name": "python3"
  },
  "language_info": {
   "codemirror_mode": {
    "name": "ipython",
    "version": 3
   },
   "file_extension": ".py",
   "mimetype": "text/x-python",
   "name": "python",
   "nbconvert_exporter": "python",
   "pygments_lexer": "ipython3",
   "version": "3.6.5"
  }
 },
 "nbformat": 4,
 "nbformat_minor": 1
}
