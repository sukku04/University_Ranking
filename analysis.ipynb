{
 "cells": [
  {
   "cell_type": "markdown",
   "metadata": {
    "_uuid": "213532950e44bb8584024ac5f9dd6e3ace9d3f42"
   },
   "source": [
    "# 1. Data collection"
   ]
  },
  {
   "cell_type": "code",
   "execution_count": 8,
   "metadata": {
    "_cell_guid": "b1076dfc-b9ad-4769-8c92-a6c4dae69d19",
    "_uuid": "8f2839f25d086af736a60e9eeb907d3b93b6e0e5"
   },
   "outputs": [
    {
     "data": {
      "text/html": [
       "<script>requirejs.config({paths: { 'plotly': ['https://cdn.plot.ly/plotly-latest.min']},});if(!window.Plotly) {{require(['plotly'],function(plotly) {window.Plotly=plotly;});}}</script>"
      ],
      "text/vnd.plotly.v1+html": [
       "<script>requirejs.config({paths: { 'plotly': ['https://cdn.plot.ly/plotly-latest.min']},});if(!window.Plotly) {{require(['plotly'],function(plotly) {window.Plotly=plotly;});}}</script>"
      ]
     },
     "metadata": {},
     "output_type": "display_data"
    }
   ],
   "source": [
    "# This Python 3 environment comes with many helpful analytics libraries installed\n",
    "# It is defined by the kaggle/python docker image: https://github.com/kaggle/docker-python\n",
    "# For example, here's several helpful packages to load in \n",
    "\n",
    "import numpy as np # linear algebra\n",
    "import pandas as pd # data processing, CSV file I/O (e.g. pd.read_csv)\n",
    "\n",
    "#plotly\n",
    "import plotly.plotly as py\n",
    "from plotly.offline import init_notebook_mode, iplot\n",
    "init_notebook_mode(connected=True)\n",
    "from plotly import tools\n",
    "import plotly.graph_objs as go\n",
    "\n",
    "\n",
    "# matplotlib\n",
    "import matplotlib.pyplot as plt"
   ]
  },
  {
   "cell_type": "code",
   "execution_count": 9,
   "metadata": {
    "_uuid": "95eea7ef7e5e609d7edd3f7a7b7bcc37df33ff44"
   },
   "outputs": [
    {
     "data": {
      "text/html": [
       "<div>\n",
       "<style scoped>\n",
       "    .dataframe tbody tr th:only-of-type {\n",
       "        vertical-align: middle;\n",
       "    }\n",
       "\n",
       "    .dataframe tbody tr th {\n",
       "        vertical-align: top;\n",
       "    }\n",
       "\n",
       "    .dataframe thead th {\n",
       "        text-align: right;\n",
       "    }\n",
       "</style>\n",
       "<table border=\"1\" class=\"dataframe\">\n",
       "  <thead>\n",
       "    <tr style=\"text-align: right;\">\n",
       "      <th></th>\n",
       "      <th>world_rank</th>\n",
       "      <th>institution</th>\n",
       "      <th>country</th>\n",
       "      <th>national_rank</th>\n",
       "      <th>quality_of_education</th>\n",
       "      <th>alumni_employment</th>\n",
       "      <th>quality_of_faculty</th>\n",
       "      <th>publications</th>\n",
       "      <th>influence</th>\n",
       "      <th>citations</th>\n",
       "      <th>broad_impact</th>\n",
       "      <th>patents</th>\n",
       "      <th>score</th>\n",
       "      <th>year</th>\n",
       "    </tr>\n",
       "  </thead>\n",
       "  <tbody>\n",
       "    <tr>\n",
       "      <th>0</th>\n",
       "      <td>1</td>\n",
       "      <td>Harvard University</td>\n",
       "      <td>USA</td>\n",
       "      <td>1</td>\n",
       "      <td>7</td>\n",
       "      <td>9</td>\n",
       "      <td>1</td>\n",
       "      <td>1</td>\n",
       "      <td>1</td>\n",
       "      <td>1</td>\n",
       "      <td>NaN</td>\n",
       "      <td>5</td>\n",
       "      <td>100.00</td>\n",
       "      <td>2012</td>\n",
       "    </tr>\n",
       "    <tr>\n",
       "      <th>1</th>\n",
       "      <td>2</td>\n",
       "      <td>Massachusetts Institute of Technology</td>\n",
       "      <td>USA</td>\n",
       "      <td>2</td>\n",
       "      <td>9</td>\n",
       "      <td>17</td>\n",
       "      <td>3</td>\n",
       "      <td>12</td>\n",
       "      <td>4</td>\n",
       "      <td>4</td>\n",
       "      <td>NaN</td>\n",
       "      <td>1</td>\n",
       "      <td>91.67</td>\n",
       "      <td>2012</td>\n",
       "    </tr>\n",
       "    <tr>\n",
       "      <th>2</th>\n",
       "      <td>3</td>\n",
       "      <td>Stanford University</td>\n",
       "      <td>USA</td>\n",
       "      <td>3</td>\n",
       "      <td>17</td>\n",
       "      <td>11</td>\n",
       "      <td>5</td>\n",
       "      <td>4</td>\n",
       "      <td>2</td>\n",
       "      <td>2</td>\n",
       "      <td>NaN</td>\n",
       "      <td>15</td>\n",
       "      <td>89.50</td>\n",
       "      <td>2012</td>\n",
       "    </tr>\n",
       "    <tr>\n",
       "      <th>3</th>\n",
       "      <td>4</td>\n",
       "      <td>University of Cambridge</td>\n",
       "      <td>United Kingdom</td>\n",
       "      <td>1</td>\n",
       "      <td>10</td>\n",
       "      <td>24</td>\n",
       "      <td>4</td>\n",
       "      <td>16</td>\n",
       "      <td>16</td>\n",
       "      <td>11</td>\n",
       "      <td>NaN</td>\n",
       "      <td>50</td>\n",
       "      <td>86.17</td>\n",
       "      <td>2012</td>\n",
       "    </tr>\n",
       "    <tr>\n",
       "      <th>4</th>\n",
       "      <td>5</td>\n",
       "      <td>California Institute of Technology</td>\n",
       "      <td>USA</td>\n",
       "      <td>4</td>\n",
       "      <td>2</td>\n",
       "      <td>29</td>\n",
       "      <td>7</td>\n",
       "      <td>37</td>\n",
       "      <td>22</td>\n",
       "      <td>22</td>\n",
       "      <td>NaN</td>\n",
       "      <td>18</td>\n",
       "      <td>85.21</td>\n",
       "      <td>2012</td>\n",
       "    </tr>\n",
       "  </tbody>\n",
       "</table>\n",
       "</div>"
      ],
      "text/plain": [
       "   world_rank                            institution         country  \\\n",
       "0           1                     Harvard University             USA   \n",
       "1           2  Massachusetts Institute of Technology             USA   \n",
       "2           3                    Stanford University             USA   \n",
       "3           4                University of Cambridge  United Kingdom   \n",
       "4           5     California Institute of Technology             USA   \n",
       "\n",
       "   national_rank  quality_of_education  alumni_employment  quality_of_faculty  \\\n",
       "0              1                     7                  9                   1   \n",
       "1              2                     9                 17                   3   \n",
       "2              3                    17                 11                   5   \n",
       "3              1                    10                 24                   4   \n",
       "4              4                     2                 29                   7   \n",
       "\n",
       "   publications  influence  citations  broad_impact  patents   score  year  \n",
       "0             1          1          1           NaN        5  100.00  2012  \n",
       "1            12          4          4           NaN        1   91.67  2012  \n",
       "2             4          2          2           NaN       15   89.50  2012  \n",
       "3            16         16         11           NaN       50   86.17  2012  \n",
       "4            37         22         22           NaN       18   85.21  2012  "
      ]
     },
     "execution_count": 9,
     "metadata": {},
     "output_type": "execute_result"
    }
   ],
   "source": [
    "cwur = pd.read_csv(\"world-university-rankings/cwurData.csv\")\n",
    "cwur.head()"
   ]
  },
  {
   "cell_type": "code",
   "execution_count": 10,
   "metadata": {
    "_uuid": "aa4edd0a4eee04fdf66526721f954f88877dd02d"
   },
   "outputs": [],
   "source": [
    "#Prepare dataset for cwur\n",
    "cwur12_kr = cwur.loc[(cwur['year'] == 2012) & (cwur['country']=='South Korea')]\n",
    "cwur13_kr = cwur.loc[(cwur['year'] == 2013) & (cwur['country']=='South Korea')]\n",
    "cwur14_kr = cwur.loc[(cwur['year'] == 2014) & (cwur['country']=='South Korea')]\n",
    "cwur15_kr = cwur.loc[(cwur['year'] == 2015) & (cwur['country']=='South Korea')]"
   ]
  },
  {
   "cell_type": "code",
   "execution_count": 11,
   "metadata": {
    "_uuid": "008eefcc8766dd75a4be3faf9f87deda3c8988a1"
   },
   "outputs": [
    {
     "data": {
      "text/html": [
       "<div>\n",
       "<style scoped>\n",
       "    .dataframe tbody tr th:only-of-type {\n",
       "        vertical-align: middle;\n",
       "    }\n",
       "\n",
       "    .dataframe tbody tr th {\n",
       "        vertical-align: top;\n",
       "    }\n",
       "\n",
       "    .dataframe thead th {\n",
       "        text-align: right;\n",
       "    }\n",
       "</style>\n",
       "<table border=\"1\" class=\"dataframe\">\n",
       "  <thead>\n",
       "    <tr style=\"text-align: right;\">\n",
       "      <th></th>\n",
       "      <th>world_rank</th>\n",
       "      <th>institution</th>\n",
       "      <th>country</th>\n",
       "      <th>national_rank</th>\n",
       "      <th>quality_of_education</th>\n",
       "      <th>alumni_employment</th>\n",
       "      <th>quality_of_faculty</th>\n",
       "      <th>publications</th>\n",
       "      <th>influence</th>\n",
       "      <th>citations</th>\n",
       "      <th>broad_impact</th>\n",
       "      <th>patents</th>\n",
       "      <th>score</th>\n",
       "      <th>year</th>\n",
       "    </tr>\n",
       "  </thead>\n",
       "  <tbody>\n",
       "    <tr>\n",
       "      <th>74</th>\n",
       "      <td>75</td>\n",
       "      <td>Seoul National University</td>\n",
       "      <td>South Korea</td>\n",
       "      <td>1</td>\n",
       "      <td>101</td>\n",
       "      <td>34</td>\n",
       "      <td>101</td>\n",
       "      <td>44</td>\n",
       "      <td>101</td>\n",
       "      <td>69</td>\n",
       "      <td>NaN</td>\n",
       "      <td>4</td>\n",
       "      <td>46.74</td>\n",
       "      <td>2012</td>\n",
       "    </tr>\n",
       "  </tbody>\n",
       "</table>\n",
       "</div>"
      ],
      "text/plain": [
       "    world_rank                institution      country  national_rank  \\\n",
       "74          75  Seoul National University  South Korea              1   \n",
       "\n",
       "    quality_of_education  alumni_employment  quality_of_faculty  publications  \\\n",
       "74                   101                 34                 101            44   \n",
       "\n",
       "    influence  citations  broad_impact  patents  score  year  \n",
       "74        101         69           NaN        4  46.74  2012  "
      ]
     },
     "execution_count": 11,
     "metadata": {},
     "output_type": "execute_result"
    }
   ],
   "source": [
    "cwur12_kr"
   ]
  },
  {
   "cell_type": "code",
   "execution_count": 12,
   "metadata": {
    "_uuid": "2907284107f602cc9734ff5de5e13996512d5395"
   },
   "outputs": [
    {
     "data": {
      "text/html": [
       "<div>\n",
       "<style scoped>\n",
       "    .dataframe tbody tr th:only-of-type {\n",
       "        vertical-align: middle;\n",
       "    }\n",
       "\n",
       "    .dataframe tbody tr th {\n",
       "        vertical-align: top;\n",
       "    }\n",
       "\n",
       "    .dataframe thead th {\n",
       "        text-align: right;\n",
       "    }\n",
       "</style>\n",
       "<table border=\"1\" class=\"dataframe\">\n",
       "  <thead>\n",
       "    <tr style=\"text-align: right;\">\n",
       "      <th></th>\n",
       "      <th>world_rank</th>\n",
       "      <th>institution</th>\n",
       "      <th>country</th>\n",
       "      <th>national_rank</th>\n",
       "      <th>quality_of_education</th>\n",
       "      <th>alumni_employment</th>\n",
       "      <th>quality_of_faculty</th>\n",
       "      <th>publications</th>\n",
       "      <th>influence</th>\n",
       "      <th>citations</th>\n",
       "      <th>broad_impact</th>\n",
       "      <th>patents</th>\n",
       "      <th>score</th>\n",
       "      <th>year</th>\n",
       "    </tr>\n",
       "  </thead>\n",
       "  <tbody>\n",
       "    <tr>\n",
       "      <th>139</th>\n",
       "      <td>40</td>\n",
       "      <td>Seoul National University</td>\n",
       "      <td>South Korea</td>\n",
       "      <td>1</td>\n",
       "      <td>101</td>\n",
       "      <td>13</td>\n",
       "      <td>101</td>\n",
       "      <td>48</td>\n",
       "      <td>101</td>\n",
       "      <td>76</td>\n",
       "      <td>NaN</td>\n",
       "      <td>4</td>\n",
       "      <td>51.31</td>\n",
       "      <td>2013</td>\n",
       "    </tr>\n",
       "  </tbody>\n",
       "</table>\n",
       "</div>"
      ],
      "text/plain": [
       "     world_rank                institution      country  national_rank  \\\n",
       "139          40  Seoul National University  South Korea              1   \n",
       "\n",
       "     quality_of_education  alumni_employment  quality_of_faculty  \\\n",
       "139                   101                 13                 101   \n",
       "\n",
       "     publications  influence  citations  broad_impact  patents  score  year  \n",
       "139            48        101         76           NaN        4  51.31  2013  "
      ]
     },
     "execution_count": 12,
     "metadata": {},
     "output_type": "execute_result"
    }
   ],
   "source": [
    "cwur13_kr"
   ]
  },
  {
   "cell_type": "markdown",
   "metadata": {
    "_uuid": "25266e985ee27f1a935864e55b92d626d33dd963"
   },
   "source": [
    "> Since the data of 2012 and 2013 in South Korea has only one, I will drop it to analysis"
   ]
  },
  {
   "cell_type": "code",
   "execution_count": 13,
   "metadata": {
    "_uuid": "68e6f4f7678edd510d24fd9849ce65a9591a23cb"
   },
   "outputs": [
    {
     "data": {
      "text/html": [
       "<div>\n",
       "<style scoped>\n",
       "    .dataframe tbody tr th:only-of-type {\n",
       "        vertical-align: middle;\n",
       "    }\n",
       "\n",
       "    .dataframe tbody tr th {\n",
       "        vertical-align: top;\n",
       "    }\n",
       "\n",
       "    .dataframe thead th {\n",
       "        text-align: right;\n",
       "    }\n",
       "</style>\n",
       "<table border=\"1\" class=\"dataframe\">\n",
       "  <thead>\n",
       "    <tr style=\"text-align: right;\">\n",
       "      <th></th>\n",
       "      <th>world_rank</th>\n",
       "      <th>institution</th>\n",
       "      <th>country</th>\n",
       "      <th>national_rank</th>\n",
       "      <th>quality_of_education</th>\n",
       "      <th>alumni_employment</th>\n",
       "      <th>quality_of_faculty</th>\n",
       "      <th>publications</th>\n",
       "      <th>influence</th>\n",
       "      <th>citations</th>\n",
       "      <th>broad_impact</th>\n",
       "      <th>patents</th>\n",
       "      <th>score</th>\n",
       "      <th>year</th>\n",
       "    </tr>\n",
       "  </thead>\n",
       "  <tbody>\n",
       "    <tr>\n",
       "      <th>1223</th>\n",
       "      <td>24</td>\n",
       "      <td>Seoul National University</td>\n",
       "      <td>South Korea</td>\n",
       "      <td>1</td>\n",
       "      <td>367</td>\n",
       "      <td>9</td>\n",
       "      <td>218</td>\n",
       "      <td>36</td>\n",
       "      <td>163</td>\n",
       "      <td>146</td>\n",
       "      <td>112.0</td>\n",
       "      <td>6</td>\n",
       "      <td>64.82</td>\n",
       "      <td>2015</td>\n",
       "    </tr>\n",
       "    <tr>\n",
       "      <th>1297</th>\n",
       "      <td>98</td>\n",
       "      <td>Yonsei University</td>\n",
       "      <td>South Korea</td>\n",
       "      <td>2</td>\n",
       "      <td>367</td>\n",
       "      <td>45</td>\n",
       "      <td>218</td>\n",
       "      <td>140</td>\n",
       "      <td>326</td>\n",
       "      <td>321</td>\n",
       "      <td>235.0</td>\n",
       "      <td>23</td>\n",
       "      <td>51.02</td>\n",
       "      <td>2015</td>\n",
       "    </tr>\n",
       "    <tr>\n",
       "      <th>1314</th>\n",
       "      <td>115</td>\n",
       "      <td>Korea University</td>\n",
       "      <td>South Korea</td>\n",
       "      <td>3</td>\n",
       "      <td>367</td>\n",
       "      <td>58</td>\n",
       "      <td>218</td>\n",
       "      <td>172</td>\n",
       "      <td>411</td>\n",
       "      <td>321</td>\n",
       "      <td>273.0</td>\n",
       "      <td>26</td>\n",
       "      <td>49.79</td>\n",
       "      <td>2015</td>\n",
       "    </tr>\n",
       "    <tr>\n",
       "      <th>1343</th>\n",
       "      <td>144</td>\n",
       "      <td>Korea Advanced Institute of Science and Techno...</td>\n",
       "      <td>South Korea</td>\n",
       "      <td>4</td>\n",
       "      <td>367</td>\n",
       "      <td>194</td>\n",
       "      <td>218</td>\n",
       "      <td>183</td>\n",
       "      <td>283</td>\n",
       "      <td>368</td>\n",
       "      <td>289.0</td>\n",
       "      <td>8</td>\n",
       "      <td>48.95</td>\n",
       "      <td>2015</td>\n",
       "    </tr>\n",
       "    <tr>\n",
       "      <th>1364</th>\n",
       "      <td>165</td>\n",
       "      <td>Pohang University of Science and Technology</td>\n",
       "      <td>South Korea</td>\n",
       "      <td>5</td>\n",
       "      <td>367</td>\n",
       "      <td>567</td>\n",
       "      <td>218</td>\n",
       "      <td>285</td>\n",
       "      <td>355</td>\n",
       "      <td>212</td>\n",
       "      <td>281.0</td>\n",
       "      <td>24</td>\n",
       "      <td>48.24</td>\n",
       "      <td>2015</td>\n",
       "    </tr>\n",
       "  </tbody>\n",
       "</table>\n",
       "</div>"
      ],
      "text/plain": [
       "      world_rank                                        institution  \\\n",
       "1223          24                          Seoul National University   \n",
       "1297          98                                  Yonsei University   \n",
       "1314         115                                   Korea University   \n",
       "1343         144  Korea Advanced Institute of Science and Techno...   \n",
       "1364         165        Pohang University of Science and Technology   \n",
       "\n",
       "          country  national_rank  quality_of_education  alumni_employment  \\\n",
       "1223  South Korea              1                   367                  9   \n",
       "1297  South Korea              2                   367                 45   \n",
       "1314  South Korea              3                   367                 58   \n",
       "1343  South Korea              4                   367                194   \n",
       "1364  South Korea              5                   367                567   \n",
       "\n",
       "      quality_of_faculty  publications  influence  citations  broad_impact  \\\n",
       "1223                 218            36        163        146         112.0   \n",
       "1297                 218           140        326        321         235.0   \n",
       "1314                 218           172        411        321         273.0   \n",
       "1343                 218           183        283        368         289.0   \n",
       "1364                 218           285        355        212         281.0   \n",
       "\n",
       "      patents  score  year  \n",
       "1223        6  64.82  2015  \n",
       "1297       23  51.02  2015  \n",
       "1314       26  49.79  2015  \n",
       "1343        8  48.95  2015  \n",
       "1364       24  48.24  2015  "
      ]
     },
     "execution_count": 13,
     "metadata": {},
     "output_type": "execute_result"
    }
   ],
   "source": [
    "#sort by national rank for each year\n",
    "cwur14_kr.sort_values(by=\"national_rank\", ascending=False)\n",
    "cwur15_kr.sort_values(by=\"national_rank\", ascending=False)\n",
    "cwur15_kr.head()"
   ]
  },
  {
   "cell_type": "markdown",
   "metadata": {
    "_uuid": "18ad87bc1977b8d2621ff870510b52222e8bc68d"
   },
   "source": [
    "# 2. Domestic measures"
   ]
  },
  {
   "cell_type": "markdown",
   "metadata": {
    "_uuid": "c68ce020571f224c37f82b3ce2c883ec8ab14616"
   },
   "source": [
    "> ## Top 10 Universities in Korea during 2014 - 2015"
   ]
  },
  {
   "cell_type": "code",
   "execution_count": 14,
   "metadata": {
    "_uuid": "65291bdce3a13486f2ddb097812aa9b949fd55d8"
   },
   "outputs": [
    {
     "data": {
      "application/vnd.plotly.v1+json": {
       "data": [
        {
         "marker": {
          "color": "rgba(255, 174, 255, 0.5)",
          "line": {
           "color": "rgb(0,0,0)",
           "width": 1.5
          }
         },
         "name": "2014",
         "text": [
          "24",
          "107",
          "128",
          "130",
          "174",
          "186",
          "204",
          "314",
          "334",
          "374",
          "380",
          "400",
          "406",
          "428",
          "429",
          "440",
          "447",
          "493",
          "513",
          "529",
          "601",
          "615",
          "619",
          "629",
          "768",
          "776",
          "821",
          "829",
          "832",
          "834",
          "837",
          "905",
          "931",
          "970"
         ],
         "type": "bar",
         "uid": "56c6aaa8-ac30-11e8-8601-60c54700448e",
         "x": [
          "Seoul National University",
          "Yonsei University",
          "Korea Advanced Institute of Science and Technology (KAIST)",
          "Korea University",
          "Hanyang University",
          "Pohang University of Science and Technology",
          "Sungkyunkwan University",
          "Kyungpook National University",
          "Gwangju Institute of Science and Technology",
          "Ewha Womans University",
          "Kyung Hee University",
          "Chonnam National University",
          "Chonbuk National University",
          "Sogang University",
          "Gyeongsang National University"
         ],
         "y": [
          1,
          2,
          3,
          4,
          5,
          6,
          7,
          8,
          9,
          10,
          11,
          12,
          13,
          14,
          15
         ]
        },
        {
         "marker": {
          "color": "rgba(255, 255, 128, 0.5)",
          "line": {
           "color": "rgb(0,0,0)",
           "width": 1.5
          }
         },
         "name": "2015",
         "text": [
          "24",
          "98",
          "115",
          "144",
          "165",
          "192",
          "211",
          "307",
          "310",
          "384",
          "390",
          "401",
          "422",
          "433",
          "434",
          "452",
          "495",
          "511",
          "560",
          "578",
          "581",
          "602",
          "628",
          "756",
          "770",
          "806",
          "812",
          "813",
          "834",
          "860",
          "868",
          "878",
          "898",
          "951",
          "952",
          "973"
         ],
         "type": "bar",
         "uid": "56c9c45e-ac30-11e8-abf1-60c54700448e",
         "x": [
          "Seoul National University",
          "Yonsei University",
          "Korea University",
          "Korea Advanced Institute of Science and Technology (KAIST)",
          "Pohang University of Science and Technology",
          "Hanyang University",
          "Sungkyunkwan University",
          "Kyungpook National University",
          "Gwangju Institute of Science and Technology",
          "Chonnam National University",
          "Ewha Womans University",
          "Kyung Hee University",
          "Chonbuk National University",
          "Ajou University",
          "Gyeongsang National University"
         ],
         "y": [
          1,
          2,
          3,
          4,
          5,
          6,
          7,
          8,
          9,
          10,
          11,
          12,
          13,
          14,
          15
         ]
        }
       ],
       "layout": {
        "bargap": 0.2,
        "bargroupgap": 0.2,
        "barmode": "group",
        "title": "Top 10 universities in South Korea 2014-2015 by CWUR",
        "xaxis": {
         "tickfont": {
          "color": "rgb(107, 107, 107)",
          "size": 11
         }
        },
        "yaxis": {
         "title": "National rank",
         "titlefont": {
          "color": "rgb(107, 107, 107)",
          "size": 14
         }
        }
       }
      },
      "text/html": [
       "<div id=\"f2a5bedb-c161-45bc-b8c0-23683d525bf7\" style=\"height: 525px; width: 100%;\" class=\"plotly-graph-div\"></div><script type=\"text/javascript\">require([\"plotly\"], function(Plotly) { window.PLOTLYENV=window.PLOTLYENV || {};window.PLOTLYENV.BASE_URL=\"https://plot.ly\";\n",
       "        Plotly.plot(\n",
       "            'f2a5bedb-c161-45bc-b8c0-23683d525bf7',\n",
       "            [{\"marker\": {\"color\": \"rgba(255, 174, 255, 0.5)\", \"line\": {\"color\": \"rgb(0,0,0)\", \"width\": 1.5}}, \"name\": \"2014\", \"text\": [\"24\", \"107\", \"128\", \"130\", \"174\", \"186\", \"204\", \"314\", \"334\", \"374\", \"380\", \"400\", \"406\", \"428\", \"429\", \"440\", \"447\", \"493\", \"513\", \"529\", \"601\", \"615\", \"619\", \"629\", \"768\", \"776\", \"821\", \"829\", \"832\", \"834\", \"837\", \"905\", \"931\", \"970\"], \"x\": [\"Seoul National University\", \"Yonsei University\", \"Korea Advanced Institute of Science and Technology (KAIST)\", \"Korea University\", \"Hanyang University\", \"Pohang University of Science and Technology\", \"Sungkyunkwan University\", \"Kyungpook National University\", \"Gwangju Institute of Science and Technology\", \"Ewha Womans University\", \"Kyung Hee University\", \"Chonnam National University\", \"Chonbuk National University\", \"Sogang University\", \"Gyeongsang National University\"], \"y\": [1.0, 2.0, 3.0, 4.0, 5.0, 6.0, 7.0, 8.0, 9.0, 10.0, 11.0, 12.0, 13.0, 14.0, 15.0], \"type\": \"bar\", \"uid\": \"56c6aaa8-ac30-11e8-8601-60c54700448e\"}, {\"marker\": {\"color\": \"rgba(255, 255, 128, 0.5)\", \"line\": {\"color\": \"rgb(0,0,0)\", \"width\": 1.5}}, \"name\": \"2015\", \"text\": [\"24\", \"98\", \"115\", \"144\", \"165\", \"192\", \"211\", \"307\", \"310\", \"384\", \"390\", \"401\", \"422\", \"433\", \"434\", \"452\", \"495\", \"511\", \"560\", \"578\", \"581\", \"602\", \"628\", \"756\", \"770\", \"806\", \"812\", \"813\", \"834\", \"860\", \"868\", \"878\", \"898\", \"951\", \"952\", \"973\"], \"x\": [\"Seoul National University\", \"Yonsei University\", \"Korea University\", \"Korea Advanced Institute of Science and Technology (KAIST)\", \"Pohang University of Science and Technology\", \"Hanyang University\", \"Sungkyunkwan University\", \"Kyungpook National University\", \"Gwangju Institute of Science and Technology\", \"Chonnam National University\", \"Ewha Womans University\", \"Kyung Hee University\", \"Chonbuk National University\", \"Ajou University\", \"Gyeongsang National University\"], \"y\": [1.0, 2.0, 3.0, 4.0, 5.0, 6.0, 7.0, 8.0, 9.0, 10.0, 11.0, 12.0, 13.0, 14.0, 15.0], \"type\": \"bar\", \"uid\": \"56c9c45e-ac30-11e8-abf1-60c54700448e\"}],\n",
       "            {\"bargap\": 0.2, \"bargroupgap\": 0.2, \"barmode\": \"group\", \"title\": \"Top 10 universities in South Korea 2014-2015 by CWUR\", \"xaxis\": {\"tickfont\": {\"color\": \"rgb(107, 107, 107)\", \"size\": 11}}, \"yaxis\": {\"title\": \"National rank\", \"titlefont\": {\"color\": \"rgb(107, 107, 107)\", \"size\": 14}}},\n",
       "            {\"showLink\": true, \"linkText\": \"Export to plot.ly\"}\n",
       "        ).then(function () {return Plotly.addFrames('f2a5bedb-c161-45bc-b8c0-23683d525bf7',{});}).then(function(){Plotly.animate('f2a5bedb-c161-45bc-b8c0-23683d525bf7');})\n",
       "        });</script>"
      ],
      "text/vnd.plotly.v1+html": [
       "<div id=\"f2a5bedb-c161-45bc-b8c0-23683d525bf7\" style=\"height: 525px; width: 100%;\" class=\"plotly-graph-div\"></div><script type=\"text/javascript\">require([\"plotly\"], function(Plotly) { window.PLOTLYENV=window.PLOTLYENV || {};window.PLOTLYENV.BASE_URL=\"https://plot.ly\";\n",
       "        Plotly.plot(\n",
       "            'f2a5bedb-c161-45bc-b8c0-23683d525bf7',\n",
       "            [{\"marker\": {\"color\": \"rgba(255, 174, 255, 0.5)\", \"line\": {\"color\": \"rgb(0,0,0)\", \"width\": 1.5}}, \"name\": \"2014\", \"text\": [\"24\", \"107\", \"128\", \"130\", \"174\", \"186\", \"204\", \"314\", \"334\", \"374\", \"380\", \"400\", \"406\", \"428\", \"429\", \"440\", \"447\", \"493\", \"513\", \"529\", \"601\", \"615\", \"619\", \"629\", \"768\", \"776\", \"821\", \"829\", \"832\", \"834\", \"837\", \"905\", \"931\", \"970\"], \"x\": [\"Seoul National University\", \"Yonsei University\", \"Korea Advanced Institute of Science and Technology (KAIST)\", \"Korea University\", \"Hanyang University\", \"Pohang University of Science and Technology\", \"Sungkyunkwan University\", \"Kyungpook National University\", \"Gwangju Institute of Science and Technology\", \"Ewha Womans University\", \"Kyung Hee University\", \"Chonnam National University\", \"Chonbuk National University\", \"Sogang University\", \"Gyeongsang National University\"], \"y\": [1.0, 2.0, 3.0, 4.0, 5.0, 6.0, 7.0, 8.0, 9.0, 10.0, 11.0, 12.0, 13.0, 14.0, 15.0], \"type\": \"bar\", \"uid\": \"56c6aaa8-ac30-11e8-8601-60c54700448e\"}, {\"marker\": {\"color\": \"rgba(255, 255, 128, 0.5)\", \"line\": {\"color\": \"rgb(0,0,0)\", \"width\": 1.5}}, \"name\": \"2015\", \"text\": [\"24\", \"98\", \"115\", \"144\", \"165\", \"192\", \"211\", \"307\", \"310\", \"384\", \"390\", \"401\", \"422\", \"433\", \"434\", \"452\", \"495\", \"511\", \"560\", \"578\", \"581\", \"602\", \"628\", \"756\", \"770\", \"806\", \"812\", \"813\", \"834\", \"860\", \"868\", \"878\", \"898\", \"951\", \"952\", \"973\"], \"x\": [\"Seoul National University\", \"Yonsei University\", \"Korea University\", \"Korea Advanced Institute of Science and Technology (KAIST)\", \"Pohang University of Science and Technology\", \"Hanyang University\", \"Sungkyunkwan University\", \"Kyungpook National University\", \"Gwangju Institute of Science and Technology\", \"Chonnam National University\", \"Ewha Womans University\", \"Kyung Hee University\", \"Chonbuk National University\", \"Ajou University\", \"Gyeongsang National University\"], \"y\": [1.0, 2.0, 3.0, 4.0, 5.0, 6.0, 7.0, 8.0, 9.0, 10.0, 11.0, 12.0, 13.0, 14.0, 15.0], \"type\": \"bar\", \"uid\": \"56c9c45e-ac30-11e8-abf1-60c54700448e\"}],\n",
       "            {\"bargap\": 0.2, \"bargroupgap\": 0.2, \"barmode\": \"group\", \"title\": \"Top 10 universities in South Korea 2014-2015 by CWUR\", \"xaxis\": {\"tickfont\": {\"color\": \"rgb(107, 107, 107)\", \"size\": 11}}, \"yaxis\": {\"title\": \"National rank\", \"titlefont\": {\"color\": \"rgb(107, 107, 107)\", \"size\": 14}}},\n",
       "            {\"showLink\": true, \"linkText\": \"Export to plot.ly\"}\n",
       "        ).then(function () {return Plotly.addFrames('f2a5bedb-c161-45bc-b8c0-23683d525bf7',{});}).then(function(){Plotly.animate('f2a5bedb-c161-45bc-b8c0-23683d525bf7');})\n",
       "        });</script>"
      ]
     },
     "metadata": {},
     "output_type": "display_data"
    }
   ],
   "source": [
    "# create trace1 \n",
    "trace1 = go.Bar(\n",
    "                x = cwur14_kr.institution.head(15),\n",
    "                y = cwur14_kr.national_rank.head(15),\n",
    "                name = \"2014\",\n",
    "                marker = dict(color = 'rgba(255, 174, 255, 0.5)',\n",
    "                             line=dict(color='rgb(0,0,0)',width=1.5)),\n",
    "                text = cwur14_kr.world_rank)\n",
    "# create trace2 \n",
    "trace2 = go.Bar(\n",
    "                x = cwur15_kr.institution.head(15),\n",
    "                y = cwur15_kr.national_rank.head(15),\n",
    "                name = \"2015\",\n",
    "                marker = dict(color = 'rgba(255, 255, 128, 0.5)',\n",
    "                              line=dict(color='rgb(0,0,0)',width=1.5)),\n",
    "                text = cwur15_kr.world_rank\n",
    "                )\n",
    "layout = go.Layout(\n",
    "    title='Top 10 universities in South Korea 2014-2015 by CWUR',\n",
    "    xaxis=dict(\n",
    "        tickfont=dict(\n",
    "            size=11,\n",
    "            color='rgb(107, 107, 107)'\n",
    "        )\n",
    "    ),\n",
    "    yaxis=dict(\n",
    "        title='National rank',\n",
    "        titlefont=dict(\n",
    "            size=14,\n",
    "            color='rgb(107, 107, 107)'\n",
    "        )\n",
    "    ),\n",
    "    barmode='group',\n",
    "    bargap=0.2,\n",
    "    bargroupgap=0.2\n",
    ")\n",
    "\n",
    "data = [trace1, trace2]\n",
    "fig = go.Figure(data = data, layout = layout)\n",
    "iplot(fig)"
   ]
  },
  {
   "cell_type": "markdown",
   "metadata": {
    "_uuid": "9840b23697f1183c6e8f5800c87cf0b65f9586cb"
   },
   "source": [
    "It seems like not much changes for Top 10 while EWU and CNU has swapped each other for the 10th place.<br/>\n",
    "Let's dive into each year of Top 10 universities to see the competitveness in all over the world"
   ]
  },
  {
   "cell_type": "markdown",
   "metadata": {
    "_uuid": "d410ada1cc9e734a360c8aad64401a29bc0876a5"
   },
   "source": [
    "# 3. Comparisonal measures "
   ]
  },
  {
   "cell_type": "markdown",
   "metadata": {
    "_uuid": "8fb62ab12f67408023e4ee955d890e0af3f8d425"
   },
   "source": [
    "> ## Worldwide"
   ]
  },
  {
   "cell_type": "markdown",
   "metadata": {
    "_uuid": "50d30b43018aad3401386d423ea33fc2d99cf568"
   },
   "source": [
    "Let's see the number of universities out of top 400 by each country to figure out which position korea is located in."
   ]
  },
  {
   "cell_type": "code",
   "execution_count": 15,
   "metadata": {
    "_uuid": "fe0f0f0191c5c5acb7b5bb62a0f2615404b0c234"
   },
   "outputs": [],
   "source": [
    "#prepare the top 400 Universities in each year\n",
    "top400_14 = cwur.loc[(cwur['year'] == 2014) & (cwur['world_rank'] < 401)]\n",
    "top400_15 = cwur.loc[(cwur['year'] == 2015) & (cwur['world_rank'] < 401)]"
   ]
  },
  {
   "cell_type": "code",
   "execution_count": 16,
   "metadata": {
    "_uuid": "fff906a0fe72b90b2b7396328267b6d524918f7d"
   },
   "outputs": [
    {
     "data": {
      "text/plain": [
       "country\n",
       "USA               136\n",
       "Germany            34\n",
       "United Kingdom     33\n",
       "Italy              20\n",
       "Canada             18\n",
       "Name: world_rank, dtype: int64"
      ]
     },
     "execution_count": 16,
     "metadata": {},
     "output_type": "execute_result"
    }
   ],
   "source": [
    "#count out of top 400 by country in 2014                   \n",
    "count_by_country14 = top400_14.groupby('country')['world_rank'].count()\n",
    "count_by_country14.sort_values(na_position='last', inplace=True, ascending=False)\n",
    "\n",
    "#count out of top 400 by country in 2015                   \n",
    "count_by_country15 = top400_15.groupby('country')['world_rank'].count()\n",
    "count_by_country15.sort_values(na_position='last', inplace=True, ascending=False)\n",
    "\n",
    "#여기까지 시리즈\n",
    "count_by_country15.head()"
   ]
  },
  {
   "cell_type": "markdown",
   "metadata": {
    "_uuid": "32dfc802cc896e0792c4bb01036dbc60e8eaec05"
   },
   "source": [
    "Let's create multiple charts to figure out easily!"
   ]
  },
  {
   "cell_type": "code",
   "execution_count": 17,
   "metadata": {
    "_uuid": "a26d353b219a69b5d321ee9c9a46139d19816946"
   },
   "outputs": [],
   "source": [
    "count_14 = count_by_country14.head(10)\n",
    "count_15 = count_by_country15.head(10)\n",
    "\n",
    "#to list\n",
    "y_country14 = count_14.index.tolist()\n",
    "y_country15 = count_15.index.tolist()\n",
    "x_count14 = count_14.values.tolist()\n",
    "x_count15 = count_15.values.tolist()"
   ]
  },
  {
   "cell_type": "code",
   "execution_count": 18,
   "metadata": {
    "_uuid": "723befd30a27ccaa1f1a82e24997450c34ae940a"
   },
   "outputs": [
    {
     "name": "stdout",
     "output_type": "stream",
     "text": [
      "This is the format of your plot grid:\n",
      "[ (1,1) x1,y1 ]  [ (1,2) x2,y2 ]\n",
      "\n"
     ]
    },
    {
     "data": {
      "application/vnd.plotly.v1+json": {
       "data": [
        {
         "marker": {
          "color": "rgba(171, 50, 96, 0.6)"
         },
         "name": "2014",
         "orientation": "h",
         "type": "bar",
         "uid": "56fd53c8-ac30-11e8-9218-60c54700448e",
         "x": [
          136,
          35,
          34,
          19,
          18,
          18,
          15,
          13,
          12,
          11
         ],
         "xaxis": "x",
         "y": [
          "USA",
          "United Kingdom",
          "Germany",
          "Italy",
          "Japan",
          "Canada",
          "China",
          "France",
          "South Korea",
          "Netherlands"
         ],
         "yaxis": "y"
        },
        {
         "marker": {
          "color": "rgba(12, 50, 196, 0.6)"
         },
         "name": "2015",
         "orientation": "h",
         "type": "bar",
         "uid": "56fe729e-ac30-11e8-b25d-60c54700448e",
         "x": [
          136,
          34,
          33,
          20,
          18,
          16,
          16,
          15,
          11,
          11
         ],
         "xaxis": "x2",
         "y": [
          "USA",
          "Germany",
          "United Kingdom",
          "Italy",
          "Canada",
          "China",
          "France",
          "Japan",
          "South Korea",
          "Netherlands"
         ],
         "yaxis": "y2"
        }
       ],
       "layout": {
        "margin": {
         "b": 70,
         "l": 200,
         "r": 20,
         "t": 70
        },
        "paper_bgcolor": "rgb(248, 248, 255)",
        "plot_bgcolor": "rgb(248, 248, 255)",
        "title": "The number of Universitity in Top 400 by country",
        "xaxis": {
         "anchor": "y",
         "domain": [
          0,
          0.45
         ],
         "showgrid": true,
         "showline": false,
         "showticklabels": true,
         "zeroline": false
        },
        "xaxis2": {
         "anchor": "y2",
         "domain": [
          0.55,
          1
         ],
         "showgrid": true,
         "showline": false,
         "showticklabels": true,
         "zeroline": false
        },
        "yaxis": {
         "anchor": "x",
         "autorange": "reversed",
         "domain": [
          0,
          0.85
         ],
         "showticklabels": true
        },
        "yaxis2": {
         "anchor": "x2",
         "autorange": "reversed",
         "domain": [
          0,
          0.85
         ],
         "linecolor": "rgba(102, 102, 102, 0.8)",
         "linewidth": 2,
         "showline": true,
         "showticklabels": false
        }
       }
      },
      "text/html": [
       "<div id=\"a569b5b5-deed-4a42-ad1f-54fe7342b3c3\" style=\"height: 525px; width: 100%;\" class=\"plotly-graph-div\"></div><script type=\"text/javascript\">require([\"plotly\"], function(Plotly) { window.PLOTLYENV=window.PLOTLYENV || {};window.PLOTLYENV.BASE_URL=\"https://plot.ly\";\n",
       "        Plotly.plot(\n",
       "            'a569b5b5-deed-4a42-ad1f-54fe7342b3c3',\n",
       "            [{\"marker\": {\"color\": \"rgba(171, 50, 96, 0.6)\"}, \"name\": \"2014\", \"orientation\": \"h\", \"x\": [136, 35, 34, 19, 18, 18, 15, 13, 12, 11], \"y\": [\"USA\", \"United Kingdom\", \"Germany\", \"Italy\", \"Japan\", \"Canada\", \"China\", \"France\", \"South Korea\", \"Netherlands\"], \"type\": \"bar\", \"uid\": \"56fd53c8-ac30-11e8-9218-60c54700448e\", \"xaxis\": \"x\", \"yaxis\": \"y\"}, {\"marker\": {\"color\": \"rgba(12, 50, 196, 0.6)\"}, \"name\": \"2015\", \"orientation\": \"h\", \"x\": [136, 34, 33, 20, 18, 16, 16, 15, 11, 11], \"y\": [\"USA\", \"Germany\", \"United Kingdom\", \"Italy\", \"Canada\", \"China\", \"France\", \"Japan\", \"South Korea\", \"Netherlands\"], \"type\": \"bar\", \"uid\": \"56fe729e-ac30-11e8-b25d-60c54700448e\", \"xaxis\": \"x2\", \"yaxis\": \"y2\"}],\n",
       "            {\"xaxis\": {\"anchor\": \"y\", \"domain\": [0.0, 0.45], \"zeroline\": false, \"showline\": false, \"showticklabels\": true, \"showgrid\": true}, \"yaxis\": {\"anchor\": \"x\", \"domain\": [0, 0.85], \"showticklabels\": true, \"autorange\": \"reversed\"}, \"xaxis2\": {\"anchor\": \"y2\", \"domain\": [0.55, 1.0], \"zeroline\": false, \"showline\": false, \"showticklabels\": true, \"showgrid\": true}, \"yaxis2\": {\"anchor\": \"x2\", \"domain\": [0, 0.85], \"showline\": true, \"showticklabels\": false, \"linecolor\": \"rgba(102, 102, 102, 0.8)\", \"linewidth\": 2, \"autorange\": \"reversed\"}, \"margin\": {\"l\": 200, \"r\": 20, \"t\": 70, \"b\": 70}, \"title\": \"The number of Universitity in Top 400 by country\", \"paper_bgcolor\": \"rgb(248, 248, 255)\", \"plot_bgcolor\": \"rgb(248, 248, 255)\"},\n",
       "            {\"showLink\": true, \"linkText\": \"Export to plot.ly\"}\n",
       "        ).then(function () {return Plotly.addFrames('a569b5b5-deed-4a42-ad1f-54fe7342b3c3',{});}).then(function(){Plotly.animate('a569b5b5-deed-4a42-ad1f-54fe7342b3c3');})\n",
       "        });</script>"
      ],
      "text/vnd.plotly.v1+html": [
       "<div id=\"a569b5b5-deed-4a42-ad1f-54fe7342b3c3\" style=\"height: 525px; width: 100%;\" class=\"plotly-graph-div\"></div><script type=\"text/javascript\">require([\"plotly\"], function(Plotly) { window.PLOTLYENV=window.PLOTLYENV || {};window.PLOTLYENV.BASE_URL=\"https://plot.ly\";\n",
       "        Plotly.plot(\n",
       "            'a569b5b5-deed-4a42-ad1f-54fe7342b3c3',\n",
       "            [{\"marker\": {\"color\": \"rgba(171, 50, 96, 0.6)\"}, \"name\": \"2014\", \"orientation\": \"h\", \"x\": [136, 35, 34, 19, 18, 18, 15, 13, 12, 11], \"y\": [\"USA\", \"United Kingdom\", \"Germany\", \"Italy\", \"Japan\", \"Canada\", \"China\", \"France\", \"South Korea\", \"Netherlands\"], \"type\": \"bar\", \"uid\": \"56fd53c8-ac30-11e8-9218-60c54700448e\", \"xaxis\": \"x\", \"yaxis\": \"y\"}, {\"marker\": {\"color\": \"rgba(12, 50, 196, 0.6)\"}, \"name\": \"2015\", \"orientation\": \"h\", \"x\": [136, 34, 33, 20, 18, 16, 16, 15, 11, 11], \"y\": [\"USA\", \"Germany\", \"United Kingdom\", \"Italy\", \"Canada\", \"China\", \"France\", \"Japan\", \"South Korea\", \"Netherlands\"], \"type\": \"bar\", \"uid\": \"56fe729e-ac30-11e8-b25d-60c54700448e\", \"xaxis\": \"x2\", \"yaxis\": \"y2\"}],\n",
       "            {\"xaxis\": {\"anchor\": \"y\", \"domain\": [0.0, 0.45], \"zeroline\": false, \"showline\": false, \"showticklabels\": true, \"showgrid\": true}, \"yaxis\": {\"anchor\": \"x\", \"domain\": [0, 0.85], \"showticklabels\": true, \"autorange\": \"reversed\"}, \"xaxis2\": {\"anchor\": \"y2\", \"domain\": [0.55, 1.0], \"zeroline\": false, \"showline\": false, \"showticklabels\": true, \"showgrid\": true}, \"yaxis2\": {\"anchor\": \"x2\", \"domain\": [0, 0.85], \"showline\": true, \"showticklabels\": false, \"linecolor\": \"rgba(102, 102, 102, 0.8)\", \"linewidth\": 2, \"autorange\": \"reversed\"}, \"margin\": {\"l\": 200, \"r\": 20, \"t\": 70, \"b\": 70}, \"title\": \"The number of Universitity in Top 400 by country\", \"paper_bgcolor\": \"rgb(248, 248, 255)\", \"plot_bgcolor\": \"rgb(248, 248, 255)\"},\n",
       "            {\"showLink\": true, \"linkText\": \"Export to plot.ly\"}\n",
       "        ).then(function () {return Plotly.addFrames('a569b5b5-deed-4a42-ad1f-54fe7342b3c3',{});}).then(function(){Plotly.animate('a569b5b5-deed-4a42-ad1f-54fe7342b3c3');})\n",
       "        });</script>"
      ]
     },
     "metadata": {},
     "output_type": "display_data"
    }
   ],
   "source": [
    "#trace0_2014\n",
    "trace0 = go.Bar(\n",
    "                x=x_count14,\n",
    "                y=y_country14,\n",
    "                marker=dict(color='rgba(171, 50, 96, 0.6)'),\n",
    "                name='2014',\n",
    "                orientation='h',\n",
    ")\n",
    "\n",
    "#trace1_2015\n",
    "trace1 = go.Bar(\n",
    "                x=x_count15,\n",
    "                y=y_country15,\n",
    "                marker=dict(color='rgba(12, 50, 196, 0.6)'),\n",
    "                name='2015',\n",
    "                orientation='h',\n",
    ")\n",
    "\n",
    "#layout\n",
    "layout = dict(\n",
    "                title='The number of Universitity in Top 400 by country',\n",
    "                yaxis=dict(showticklabels=True,domain=[0, 0.85],autorange='reversed'),\n",
    "                yaxis2=dict(showline=True,showticklabels=False,linecolor='rgba(102, 102, 102, 0.8)',linewidth=2,domain=[0, 0.85],autorange='reversed'),\n",
    "                xaxis=dict(zeroline=False,showline=False,showticklabels=True,showgrid=True),\n",
    "                xaxis2=dict(zeroline=False,showline=False,showticklabels=True,showgrid=True),\n",
    "                margin=dict(l=200, r=20,t=70,b=70),\n",
    "                paper_bgcolor='rgb(248, 248, 255)',\n",
    "                plot_bgcolor='rgb(248, 248, 255)',\n",
    ")\n",
    "\n",
    "# Creating two subplots\n",
    "fig = tools.make_subplots(rows=1, cols=2)\n",
    "fig.append_trace(trace0, 1, 1)\n",
    "fig.append_trace(trace1, 1, 2)\n",
    "\n",
    "fig['layout'].update(layout)\n",
    "iplot(fig)"
   ]
  },
  {
   "cell_type": "code",
   "execution_count": 19,
   "metadata": {
    "_uuid": "211432df30f3088dad3cb17dd5b0b6e393a29d95"
   },
   "outputs": [
    {
     "name": "stdout",
     "output_type": "stream",
     "text": [
      "This is the format of your plot grid:\n",
      "[ (1,1) x1,y1 ]  [ (1,2) x2,y2 ]\n",
      "\n"
     ]
    },
    {
     "data": {
      "application/vnd.plotly.v1+json": {
       "data": [
        {
         "marker": {
          "color": "rgba(171, 50, 96, 0.6)"
         },
         "name": "2014",
         "orientation": "h",
         "type": "bar",
         "uid": "57171358-ac30-11e8-8f37-60c54700448e",
         "x": [
          53,
          8,
          7,
          4,
          4,
          4,
          3,
          3,
          2,
          2,
          2,
          1
         ],
         "xaxis": "x",
         "y": [
          "USA",
          "Japan",
          "United Kingdom",
          "Switzerland",
          "Germany",
          "France",
          "Israel",
          "Canada",
          "Sweden",
          "China",
          "Australia",
          "South Korea"
         ],
         "yaxis": "y"
        },
        {
         "marker": {
          "color": "rgba(12, 50, 196, 0.6)"
         },
         "name": "2015",
         "orientation": "h",
         "type": "bar",
         "uid": "57186a0a-ac30-11e8-8ce8-60c54700448e",
         "x": [
          55,
          7,
          7,
          4,
          4,
          3,
          3,
          2,
          2,
          2,
          2,
          2
         ],
         "xaxis": "x2",
         "y": [
          "USA",
          "United Kingdom",
          "Japan",
          "Switzerland",
          "France",
          "Canada",
          "Israel",
          "China",
          "Germany",
          "Netherlands",
          "South Korea",
          "Australia"
         ],
         "yaxis": "y2"
        }
       ],
       "layout": {
        "margin": {
         "b": 70,
         "l": 200,
         "r": 20,
         "t": 70
        },
        "paper_bgcolor": "rgb(248, 248, 255)",
        "plot_bgcolor": "rgb(248, 248, 255)",
        "title": "The number of Universitity in Top 100 by country",
        "xaxis": {
         "anchor": "y",
         "domain": [
          0,
          0.45
         ],
         "showgrid": true,
         "showline": false,
         "showticklabels": true,
         "zeroline": false
        },
        "xaxis2": {
         "anchor": "y2",
         "domain": [
          0.55,
          1
         ],
         "showgrid": true,
         "showline": false,
         "showticklabels": true,
         "zeroline": false
        },
        "yaxis": {
         "anchor": "x",
         "autorange": "reversed",
         "domain": [
          0,
          0.85
         ],
         "showticklabels": true
        },
        "yaxis2": {
         "anchor": "x2",
         "autorange": "reversed",
         "domain": [
          0,
          0.85
         ],
         "linecolor": "rgba(102, 102, 102, 0.8)",
         "linewidth": 2,
         "showline": true,
         "showticklabels": false
        }
       }
      },
      "text/html": [
       "<div id=\"100604ed-3b3d-484d-89ed-6aad459b08f5\" style=\"height: 525px; width: 100%;\" class=\"plotly-graph-div\"></div><script type=\"text/javascript\">require([\"plotly\"], function(Plotly) { window.PLOTLYENV=window.PLOTLYENV || {};window.PLOTLYENV.BASE_URL=\"https://plot.ly\";\n",
       "        Plotly.plot(\n",
       "            '100604ed-3b3d-484d-89ed-6aad459b08f5',\n",
       "            [{\"marker\": {\"color\": \"rgba(171, 50, 96, 0.6)\"}, \"name\": \"2014\", \"orientation\": \"h\", \"x\": [53, 8, 7, 4, 4, 4, 3, 3, 2, 2, 2, 1], \"y\": [\"USA\", \"Japan\", \"United Kingdom\", \"Switzerland\", \"Germany\", \"France\", \"Israel\", \"Canada\", \"Sweden\", \"China\", \"Australia\", \"South Korea\"], \"type\": \"bar\", \"uid\": \"57171358-ac30-11e8-8f37-60c54700448e\", \"xaxis\": \"x\", \"yaxis\": \"y\"}, {\"marker\": {\"color\": \"rgba(12, 50, 196, 0.6)\"}, \"name\": \"2015\", \"orientation\": \"h\", \"x\": [55, 7, 7, 4, 4, 3, 3, 2, 2, 2, 2, 2], \"y\": [\"USA\", \"United Kingdom\", \"Japan\", \"Switzerland\", \"France\", \"Canada\", \"Israel\", \"China\", \"Germany\", \"Netherlands\", \"South Korea\", \"Australia\"], \"type\": \"bar\", \"uid\": \"57186a0a-ac30-11e8-8ce8-60c54700448e\", \"xaxis\": \"x2\", \"yaxis\": \"y2\"}],\n",
       "            {\"xaxis\": {\"anchor\": \"y\", \"domain\": [0.0, 0.45], \"zeroline\": false, \"showline\": false, \"showticklabels\": true, \"showgrid\": true}, \"yaxis\": {\"anchor\": \"x\", \"domain\": [0, 0.85], \"showticklabels\": true, \"autorange\": \"reversed\"}, \"xaxis2\": {\"anchor\": \"y2\", \"domain\": [0.55, 1.0], \"zeroline\": false, \"showline\": false, \"showticklabels\": true, \"showgrid\": true}, \"yaxis2\": {\"anchor\": \"x2\", \"domain\": [0, 0.85], \"showline\": true, \"showticklabels\": false, \"linecolor\": \"rgba(102, 102, 102, 0.8)\", \"linewidth\": 2, \"autorange\": \"reversed\"}, \"margin\": {\"l\": 200, \"r\": 20, \"t\": 70, \"b\": 70}, \"title\": \"The number of Universitity in Top 100 by country\", \"paper_bgcolor\": \"rgb(248, 248, 255)\", \"plot_bgcolor\": \"rgb(248, 248, 255)\"},\n",
       "            {\"showLink\": true, \"linkText\": \"Export to plot.ly\"}\n",
       "        ).then(function () {return Plotly.addFrames('100604ed-3b3d-484d-89ed-6aad459b08f5',{});}).then(function(){Plotly.animate('100604ed-3b3d-484d-89ed-6aad459b08f5');})\n",
       "        });</script>"
      ],
      "text/vnd.plotly.v1+html": [
       "<div id=\"100604ed-3b3d-484d-89ed-6aad459b08f5\" style=\"height: 525px; width: 100%;\" class=\"plotly-graph-div\"></div><script type=\"text/javascript\">require([\"plotly\"], function(Plotly) { window.PLOTLYENV=window.PLOTLYENV || {};window.PLOTLYENV.BASE_URL=\"https://plot.ly\";\n",
       "        Plotly.plot(\n",
       "            '100604ed-3b3d-484d-89ed-6aad459b08f5',\n",
       "            [{\"marker\": {\"color\": \"rgba(171, 50, 96, 0.6)\"}, \"name\": \"2014\", \"orientation\": \"h\", \"x\": [53, 8, 7, 4, 4, 4, 3, 3, 2, 2, 2, 1], \"y\": [\"USA\", \"Japan\", \"United Kingdom\", \"Switzerland\", \"Germany\", \"France\", \"Israel\", \"Canada\", \"Sweden\", \"China\", \"Australia\", \"South Korea\"], \"type\": \"bar\", \"uid\": \"57171358-ac30-11e8-8f37-60c54700448e\", \"xaxis\": \"x\", \"yaxis\": \"y\"}, {\"marker\": {\"color\": \"rgba(12, 50, 196, 0.6)\"}, \"name\": \"2015\", \"orientation\": \"h\", \"x\": [55, 7, 7, 4, 4, 3, 3, 2, 2, 2, 2, 2], \"y\": [\"USA\", \"United Kingdom\", \"Japan\", \"Switzerland\", \"France\", \"Canada\", \"Israel\", \"China\", \"Germany\", \"Netherlands\", \"South Korea\", \"Australia\"], \"type\": \"bar\", \"uid\": \"57186a0a-ac30-11e8-8ce8-60c54700448e\", \"xaxis\": \"x2\", \"yaxis\": \"y2\"}],\n",
       "            {\"xaxis\": {\"anchor\": \"y\", \"domain\": [0.0, 0.45], \"zeroline\": false, \"showline\": false, \"showticklabels\": true, \"showgrid\": true}, \"yaxis\": {\"anchor\": \"x\", \"domain\": [0, 0.85], \"showticklabels\": true, \"autorange\": \"reversed\"}, \"xaxis2\": {\"anchor\": \"y2\", \"domain\": [0.55, 1.0], \"zeroline\": false, \"showline\": false, \"showticklabels\": true, \"showgrid\": true}, \"yaxis2\": {\"anchor\": \"x2\", \"domain\": [0, 0.85], \"showline\": true, \"showticklabels\": false, \"linecolor\": \"rgba(102, 102, 102, 0.8)\", \"linewidth\": 2, \"autorange\": \"reversed\"}, \"margin\": {\"l\": 200, \"r\": 20, \"t\": 70, \"b\": 70}, \"title\": \"The number of Universitity in Top 100 by country\", \"paper_bgcolor\": \"rgb(248, 248, 255)\", \"plot_bgcolor\": \"rgb(248, 248, 255)\"},\n",
       "            {\"showLink\": true, \"linkText\": \"Export to plot.ly\"}\n",
       "        ).then(function () {return Plotly.addFrames('100604ed-3b3d-484d-89ed-6aad459b08f5',{});}).then(function(){Plotly.animate('100604ed-3b3d-484d-89ed-6aad459b08f5');})\n",
       "        });</script>"
      ]
     },
     "metadata": {},
     "output_type": "display_data"
    }
   ],
   "source": [
    "#prepare the top 400 Universities in each year\n",
    "top100_14 = cwur.loc[(cwur['year'] == 2014) & (cwur['world_rank'] < 101)]\n",
    "top100_15 = cwur.loc[(cwur['year'] == 2015) & (cwur['world_rank'] < 101)]\n",
    "\n",
    "#count out of top 100 by country in 2014                   \n",
    "count100_by_country14 = top100_14.groupby('country')['world_rank'].count()\n",
    "count100_by_country14.sort_values(na_position='last', inplace=True, ascending=False)\n",
    "\n",
    "#count out of top 100 by country in 2015                   \n",
    "count100_by_country15 = top100_15.groupby('country')['world_rank'].count()\n",
    "count100_by_country15.sort_values(na_position='last', inplace=True, ascending=False)\n",
    "\n",
    "count100_14 = count100_by_country14.head(12)\n",
    "count100_15 = count100_by_country15.head(12)\n",
    "\n",
    "#to list\n",
    "y100_country14 = count100_14.index.tolist()\n",
    "y100_country15 = count100_15.index.tolist()\n",
    "x100_count14 = count100_14.values.tolist()\n",
    "x100_count15 = count100_15.values.tolist()\n",
    "\n",
    "#trace0_2014\n",
    "trace0 = go.Bar(\n",
    "                x=x100_count14,\n",
    "                y=y100_country14,\n",
    "                marker=dict(color='rgba(171, 50, 96, 0.6)'),\n",
    "                name='2014',\n",
    "                orientation='h',\n",
    ")\n",
    "\n",
    "#trace1_2015\n",
    "trace1 = go.Bar(\n",
    "                x=x100_count15,\n",
    "                y=y100_country15,\n",
    "                marker=dict(color='rgba(12, 50, 196, 0.6)'),\n",
    "                name='2015',\n",
    "                orientation='h',\n",
    ")\n",
    "\n",
    "#layout\n",
    "layout = dict(\n",
    "                title='The number of Universitity in Top 100 by country',\n",
    "                yaxis=dict(showticklabels=True,domain=[0, 0.85],autorange='reversed'),\n",
    "                yaxis2=dict(showline=True,showticklabels=False,linecolor='rgba(102, 102, 102, 0.8)',linewidth=2,domain=[0, 0.85],autorange='reversed'),\n",
    "                xaxis=dict(zeroline=False,showline=False,showticklabels=True,showgrid=True),\n",
    "                xaxis2=dict(zeroline=False,showline=False,showticklabels=True,showgrid=True),\n",
    "                margin=dict(l=200, r=20,t=70,b=70),\n",
    "                paper_bgcolor='rgb(248, 248, 255)',\n",
    "                plot_bgcolor='rgb(248, 248, 255)',\n",
    ")\n",
    "\n",
    "# Creating two subplots\n",
    "fig = tools.make_subplots(rows=1, cols=2)\n",
    "fig.append_trace(trace0, 1, 1)\n",
    "fig.append_trace(trace1, 1, 2)\n",
    "\n",
    "fig['layout'].update(layout)\n",
    "iplot(fig)"
   ]
  },
  {
   "cell_type": "markdown",
   "metadata": {
    "_uuid": "c57f0d65aafbedcef9a969e89a4d061a0234ea7c"
   },
   "source": [
    "\n",
    " \n",
    "> ## Comparison with Japan and China**"
   ]
  },
  {
   "cell_type": "markdown",
   "metadata": {
    "_uuid": "69f734df038d0139b44d9dcac9c2b2e42e165c65"
   },
   "source": [
    "Korea is the 9th of the number of universities in Top 400 of the world.<br/>\n",
    "In compared with other asian countries like China and Japan, S.Korea is behind of them.<br/>\n",
    "\n",
    "#### # of universities on Top 400 in the world\n",
    "* South Korea \n",
    "    * 12 -> 11\n",
    "* Chinea \n",
    "    * 13 -> 16\n",
    "* Japan \n",
    "    * 18 -> 15\n",
    "    \n",
    "#### # of universities on Top 100 in the world\n",
    "* South Korea \n",
    "    * 1 -> 2\n",
    "* Chinea \n",
    "    * 2 -> 2\n",
    "* Japan \n",
    "    * 8 -> 7"
   ]
  },
  {
   "cell_type": "markdown",
   "metadata": {
    "_uuid": "4cbef7630bcdeee2c9e42365c9c1929f303cdf2b"
   },
   "source": [
    "In general, SNU(Seoul National University), PU(Peking University), UT(University of Tokyo) are well-known university in each country.<br/>\n",
    "Let's compare those universities."
   ]
  },
  {
   "cell_type": "markdown",
   "metadata": {
    "_uuid": "55fda6545e7a9721d6c6ee5ee28463d32d6b4b85"
   },
   "source": [
    "> ## Top university of South Korea, Japan and China"
   ]
  },
  {
   "cell_type": "code",
   "execution_count": 20,
   "metadata": {
    "_uuid": "c29c05f34a362785a7d08dc9573071c5d4214271"
   },
   "outputs": [
    {
     "data": {
      "application/vnd.plotly.v1+json": {
       "data": [
        {
         "marker": {
          "color": "rgb(171, 50, 96)"
         },
         "mode": "lines+markers",
         "name": "Peking University(CHN)",
         "text": [
          "55",
          "56"
         ],
         "type": "scatter",
         "uid": "5744965c-ac30-11e8-a4ab-60c54700448e",
         "x": [
          2014,
          2015
         ],
         "y": [
          55.3,
          54.26
         ]
        },
        {
         "marker": {
          "color": "rgb(50, 96, 171)"
         },
         "mode": "lines+markers",
         "name": "Seoul National University(KOR)",
         "text": [
          "75",
          "40",
          "24",
          "24"
         ],
         "type": "scatter",
         "uid": "574498be-ac30-11e8-a881-60c54700448e",
         "x": [
          2012,
          2013,
          2014,
          2015
         ],
         "y": [
          46.74,
          51.31,
          66.06,
          64.82
         ]
        },
        {
         "marker": {
          "color": "rgb(50, 171, 96)"
         },
         "mode": "lines+markers",
         "name": "University of Tokyo(JPN)",
         "text": [
          "14",
          "14",
          "13",
          "13"
         ],
         "type": "scatter",
         "uid": "57449a12-ac30-11e8-8da5-60c54700448e",
         "x": [
          2012,
          2013,
          2014,
          2015
         ],
         "y": [
          69.49,
          76.23,
          80.64,
          78.23
         ]
        }
       ],
       "layout": {
        "title": "Top univerisity of S.Korea, Japan and China",
        "xaxis": {
         "dtick": 1,
         "title": "Year",
         "zeroline": false
        },
        "yaxis": {
         "title": "Score",
         "zeroline": false
        }
       }
      },
      "text/html": [
       "<div id=\"aad92665-5f69-4222-828e-eac1f4c16b2f\" style=\"height: 525px; width: 100%;\" class=\"plotly-graph-div\"></div><script type=\"text/javascript\">require([\"plotly\"], function(Plotly) { window.PLOTLYENV=window.PLOTLYENV || {};window.PLOTLYENV.BASE_URL=\"https://plot.ly\";Plotly.newPlot(\"aad92665-5f69-4222-828e-eac1f4c16b2f\", [{\"marker\": {\"color\": \"rgb(171, 50, 96)\"}, \"mode\": \"lines+markers\", \"name\": \"Peking University(CHN)\", \"text\": [\"55\", \"56\"], \"x\": [2014.0, 2015.0], \"y\": [55.3, 54.26], \"type\": \"scatter\", \"uid\": \"574ec348-ac30-11e8-b0e9-60c54700448e\"}, {\"marker\": {\"color\": \"rgb(50, 96, 171)\"}, \"mode\": \"lines+markers\", \"name\": \"Seoul National University(KOR)\", \"text\": [\"75\", \"40\", \"24\", \"24\"], \"x\": [2012.0, 2013.0, 2014.0, 2015.0], \"y\": [46.74, 51.31, 66.06, 64.82], \"type\": \"scatter\", \"uid\": \"574ec636-ac30-11e8-ba41-60c54700448e\"}, {\"marker\": {\"color\": \"rgb(50, 171, 96)\"}, \"mode\": \"lines+markers\", \"name\": \"University of Tokyo(JPN)\", \"text\": [\"14\", \"14\", \"13\", \"13\"], \"x\": [2012.0, 2013.0, 2014.0, 2015.0], \"y\": [69.49, 76.23, 80.64, 78.23], \"type\": \"scatter\", \"uid\": \"574ec79e-ac30-11e8-b490-60c54700448e\"}], {\"title\": \"Top univerisity of S.Korea, Japan and China\", \"xaxis\": {\"dtick\": 1, \"title\": \"Year\", \"zeroline\": false}, \"yaxis\": {\"title\": \"Score\", \"zeroline\": false}}, {\"showLink\": true, \"linkText\": \"Export to plot.ly\"})});</script>"
      ],
      "text/vnd.plotly.v1+html": [
       "<div id=\"aad92665-5f69-4222-828e-eac1f4c16b2f\" style=\"height: 525px; width: 100%;\" class=\"plotly-graph-div\"></div><script type=\"text/javascript\">require([\"plotly\"], function(Plotly) { window.PLOTLYENV=window.PLOTLYENV || {};window.PLOTLYENV.BASE_URL=\"https://plot.ly\";Plotly.newPlot(\"aad92665-5f69-4222-828e-eac1f4c16b2f\", [{\"marker\": {\"color\": \"rgb(171, 50, 96)\"}, \"mode\": \"lines+markers\", \"name\": \"Peking University(CHN)\", \"text\": [\"55\", \"56\"], \"x\": [2014.0, 2015.0], \"y\": [55.3, 54.26], \"type\": \"scatter\", \"uid\": \"574ec348-ac30-11e8-b0e9-60c54700448e\"}, {\"marker\": {\"color\": \"rgb(50, 96, 171)\"}, \"mode\": \"lines+markers\", \"name\": \"Seoul National University(KOR)\", \"text\": [\"75\", \"40\", \"24\", \"24\"], \"x\": [2012.0, 2013.0, 2014.0, 2015.0], \"y\": [46.74, 51.31, 66.06, 64.82], \"type\": \"scatter\", \"uid\": \"574ec636-ac30-11e8-ba41-60c54700448e\"}, {\"marker\": {\"color\": \"rgb(50, 171, 96)\"}, \"mode\": \"lines+markers\", \"name\": \"University of Tokyo(JPN)\", \"text\": [\"14\", \"14\", \"13\", \"13\"], \"x\": [2012.0, 2013.0, 2014.0, 2015.0], \"y\": [69.49, 76.23, 80.64, 78.23], \"type\": \"scatter\", \"uid\": \"574ec79e-ac30-11e8-b490-60c54700448e\"}], {\"title\": \"Top univerisity of S.Korea, Japan and China\", \"xaxis\": {\"dtick\": 1, \"title\": \"Year\", \"zeroline\": false}, \"yaxis\": {\"title\": \"Score\", \"zeroline\": false}}, {\"showLink\": true, \"linkText\": \"Export to plot.ly\"})});</script>"
      ]
     },
     "metadata": {},
     "output_type": "display_data"
    }
   ],
   "source": [
    "# prepare data frame\n",
    "pu = cwur[cwur['institution'] =='Peking University']\n",
    "snu = cwur[cwur['institution'] =='Seoul National University']\n",
    "ut = cwur[cwur['institution'] =='University of Tokyo']\n",
    "\n",
    "# Creating trace1\n",
    "trace1 = go.Scatter(\n",
    "                    x = pu.year,\n",
    "                    y = pu.score,\n",
    "                    mode = \"lines+markers\",\n",
    "                    name = \"Peking University(CHN)\",\n",
    "                    marker = dict(color = 'rgb(171, 50, 96)'),\n",
    "                    text= pu.world_rank)\n",
    "# Creating trace2\n",
    "trace2 = go.Scatter(\n",
    "                    x = snu.year,\n",
    "                    y = snu.score,\n",
    "                    mode = \"lines+markers\",\n",
    "                    name = \"Seoul National University(KOR)\",\n",
    "                    marker = dict(color = 'rgb(50, 96, 171)'),\n",
    "                    text= snu.world_rank)\n",
    "\n",
    "trace3 = go.Scatter(\n",
    "                    x = ut.year,\n",
    "                    y = ut.score,\n",
    "                    mode = \"lines+markers\",\n",
    "                    name = \"University of Tokyo(JPN)\",\n",
    "                    marker = dict(color = 'rgb(50, 171, 96)'),\n",
    "                    text= ut.world_rank)\n",
    "\n",
    "data = [trace1, trace2, trace3]\n",
    "layout = dict(title = 'Top univerisity of S.Korea, Japan and China',\n",
    "              xaxis= dict(title= 'Year',zeroline= False,dtick=1),\n",
    "              yaxis= dict(title= 'Score',zeroline= False)\n",
    "             )\n",
    "\n",
    "fig = dict(data = data, layout = layout)\n",
    "iplot(fig)\n"
   ]
  },
  {
   "cell_type": "markdown",
   "metadata": {
    "_uuid": "6f4e555278afc1cea4de00d0baf39e6d0f919611"
   },
   "source": [
    "Even though University of Tokyo's rank is way higher than SNU and PU, SNU is getting higher for the past 4 years."
   ]
  },
  {
   "cell_type": "code",
   "execution_count": 21,
   "metadata": {
    "_uuid": "75abd6c925f91231debfdc1cca62db2f7cba5038"
   },
   "outputs": [
    {
     "data": {
      "text/html": [
       "<div>\n",
       "<style scoped>\n",
       "    .dataframe tbody tr th:only-of-type {\n",
       "        vertical-align: middle;\n",
       "    }\n",
       "\n",
       "    .dataframe tbody tr th {\n",
       "        vertical-align: top;\n",
       "    }\n",
       "\n",
       "    .dataframe thead th {\n",
       "        text-align: right;\n",
       "    }\n",
       "</style>\n",
       "<table border=\"1\" class=\"dataframe\">\n",
       "  <thead>\n",
       "    <tr style=\"text-align: right;\">\n",
       "      <th></th>\n",
       "      <th>world_rank</th>\n",
       "      <th>institution</th>\n",
       "      <th>country</th>\n",
       "      <th>national_rank</th>\n",
       "      <th>quality_of_education</th>\n",
       "      <th>alumni_employment</th>\n",
       "      <th>quality_of_faculty</th>\n",
       "      <th>publications</th>\n",
       "      <th>influence</th>\n",
       "      <th>citations</th>\n",
       "      <th>broad_impact</th>\n",
       "      <th>patents</th>\n",
       "      <th>score</th>\n",
       "      <th>year</th>\n",
       "    </tr>\n",
       "  </thead>\n",
       "  <tbody>\n",
       "    <tr>\n",
       "      <th>254</th>\n",
       "      <td>55</td>\n",
       "      <td>Peking University</td>\n",
       "      <td>China</td>\n",
       "      <td>1</td>\n",
       "      <td>355</td>\n",
       "      <td>35</td>\n",
       "      <td>210</td>\n",
       "      <td>65</td>\n",
       "      <td>155</td>\n",
       "      <td>250</td>\n",
       "      <td>155.0</td>\n",
       "      <td>7</td>\n",
       "      <td>55.30</td>\n",
       "      <td>2014</td>\n",
       "    </tr>\n",
       "    <tr>\n",
       "      <th>1255</th>\n",
       "      <td>56</td>\n",
       "      <td>Peking University</td>\n",
       "      <td>China</td>\n",
       "      <td>1</td>\n",
       "      <td>182</td>\n",
       "      <td>38</td>\n",
       "      <td>218</td>\n",
       "      <td>52</td>\n",
       "      <td>131</td>\n",
       "      <td>182</td>\n",
       "      <td>125.0</td>\n",
       "      <td>20</td>\n",
       "      <td>54.26</td>\n",
       "      <td>2015</td>\n",
       "    </tr>\n",
       "  </tbody>\n",
       "</table>\n",
       "</div>"
      ],
      "text/plain": [
       "      world_rank        institution country  national_rank  \\\n",
       "254           55  Peking University   China              1   \n",
       "1255          56  Peking University   China              1   \n",
       "\n",
       "      quality_of_education  alumni_employment  quality_of_faculty  \\\n",
       "254                    355                 35                 210   \n",
       "1255                   182                 38                 218   \n",
       "\n",
       "      publications  influence  citations  broad_impact  patents  score  year  \n",
       "254             65        155        250         155.0        7  55.30  2014  \n",
       "1255            52        131        182         125.0       20  54.26  2015  "
      ]
     },
     "execution_count": 21,
     "metadata": {},
     "output_type": "execute_result"
    }
   ],
   "source": [
    "pu.head()"
   ]
  },
  {
   "cell_type": "code",
   "execution_count": 22,
   "metadata": {
    "_uuid": "2d199f5f8273b9a6a47d5d9868a252af2b807655"
   },
   "outputs": [
    {
     "data": {
      "text/html": [
       "<div>\n",
       "<style scoped>\n",
       "    .dataframe tbody tr th:only-of-type {\n",
       "        vertical-align: middle;\n",
       "    }\n",
       "\n",
       "    .dataframe tbody tr th {\n",
       "        vertical-align: top;\n",
       "    }\n",
       "\n",
       "    .dataframe thead th {\n",
       "        text-align: right;\n",
       "    }\n",
       "</style>\n",
       "<table border=\"1\" class=\"dataframe\">\n",
       "  <thead>\n",
       "    <tr style=\"text-align: right;\">\n",
       "      <th></th>\n",
       "      <th>world_rank</th>\n",
       "      <th>institution</th>\n",
       "      <th>country</th>\n",
       "      <th>national_rank</th>\n",
       "      <th>quality_of_education</th>\n",
       "      <th>alumni_employment</th>\n",
       "      <th>quality_of_faculty</th>\n",
       "      <th>publications</th>\n",
       "      <th>influence</th>\n",
       "      <th>citations</th>\n",
       "      <th>broad_impact</th>\n",
       "      <th>patents</th>\n",
       "      <th>score</th>\n",
       "      <th>year</th>\n",
       "    </tr>\n",
       "  </thead>\n",
       "  <tbody>\n",
       "    <tr>\n",
       "      <th>74</th>\n",
       "      <td>75</td>\n",
       "      <td>Seoul National University</td>\n",
       "      <td>South Korea</td>\n",
       "      <td>1</td>\n",
       "      <td>101</td>\n",
       "      <td>34</td>\n",
       "      <td>101</td>\n",
       "      <td>44</td>\n",
       "      <td>101</td>\n",
       "      <td>69</td>\n",
       "      <td>NaN</td>\n",
       "      <td>4</td>\n",
       "      <td>46.74</td>\n",
       "      <td>2012</td>\n",
       "    </tr>\n",
       "    <tr>\n",
       "      <th>139</th>\n",
       "      <td>40</td>\n",
       "      <td>Seoul National University</td>\n",
       "      <td>South Korea</td>\n",
       "      <td>1</td>\n",
       "      <td>101</td>\n",
       "      <td>13</td>\n",
       "      <td>101</td>\n",
       "      <td>48</td>\n",
       "      <td>101</td>\n",
       "      <td>76</td>\n",
       "      <td>NaN</td>\n",
       "      <td>4</td>\n",
       "      <td>51.31</td>\n",
       "      <td>2013</td>\n",
       "    </tr>\n",
       "    <tr>\n",
       "      <th>223</th>\n",
       "      <td>24</td>\n",
       "      <td>Seoul National University</td>\n",
       "      <td>South Korea</td>\n",
       "      <td>1</td>\n",
       "      <td>355</td>\n",
       "      <td>9</td>\n",
       "      <td>210</td>\n",
       "      <td>38</td>\n",
       "      <td>165</td>\n",
       "      <td>87</td>\n",
       "      <td>107.0</td>\n",
       "      <td>5</td>\n",
       "      <td>66.06</td>\n",
       "      <td>2014</td>\n",
       "    </tr>\n",
       "    <tr>\n",
       "      <th>1223</th>\n",
       "      <td>24</td>\n",
       "      <td>Seoul National University</td>\n",
       "      <td>South Korea</td>\n",
       "      <td>1</td>\n",
       "      <td>367</td>\n",
       "      <td>9</td>\n",
       "      <td>218</td>\n",
       "      <td>36</td>\n",
       "      <td>163</td>\n",
       "      <td>146</td>\n",
       "      <td>112.0</td>\n",
       "      <td>6</td>\n",
       "      <td>64.82</td>\n",
       "      <td>2015</td>\n",
       "    </tr>\n",
       "  </tbody>\n",
       "</table>\n",
       "</div>"
      ],
      "text/plain": [
       "      world_rank                institution      country  national_rank  \\\n",
       "74            75  Seoul National University  South Korea              1   \n",
       "139           40  Seoul National University  South Korea              1   \n",
       "223           24  Seoul National University  South Korea              1   \n",
       "1223          24  Seoul National University  South Korea              1   \n",
       "\n",
       "      quality_of_education  alumni_employment  quality_of_faculty  \\\n",
       "74                     101                 34                 101   \n",
       "139                    101                 13                 101   \n",
       "223                    355                  9                 210   \n",
       "1223                   367                  9                 218   \n",
       "\n",
       "      publications  influence  citations  broad_impact  patents  score  year  \n",
       "74              44        101         69           NaN        4  46.74  2012  \n",
       "139             48        101         76           NaN        4  51.31  2013  \n",
       "223             38        165         87         107.0        5  66.06  2014  \n",
       "1223            36        163        146         112.0        6  64.82  2015  "
      ]
     },
     "execution_count": 22,
     "metadata": {},
     "output_type": "execute_result"
    }
   ],
   "source": [
    "snu.head()"
   ]
  },
  {
   "cell_type": "code",
   "execution_count": 23,
   "metadata": {
    "_uuid": "5810cc56d61463afa9a6d4d13acc119b02f0ef3f"
   },
   "outputs": [
    {
     "data": {
      "text/html": [
       "<div>\n",
       "<style scoped>\n",
       "    .dataframe tbody tr th:only-of-type {\n",
       "        vertical-align: middle;\n",
       "    }\n",
       "\n",
       "    .dataframe tbody tr th {\n",
       "        vertical-align: top;\n",
       "    }\n",
       "\n",
       "    .dataframe thead th {\n",
       "        text-align: right;\n",
       "    }\n",
       "</style>\n",
       "<table border=\"1\" class=\"dataframe\">\n",
       "  <thead>\n",
       "    <tr style=\"text-align: right;\">\n",
       "      <th></th>\n",
       "      <th>world_rank</th>\n",
       "      <th>institution</th>\n",
       "      <th>country</th>\n",
       "      <th>national_rank</th>\n",
       "      <th>quality_of_education</th>\n",
       "      <th>alumni_employment</th>\n",
       "      <th>quality_of_faculty</th>\n",
       "      <th>publications</th>\n",
       "      <th>influence</th>\n",
       "      <th>citations</th>\n",
       "      <th>broad_impact</th>\n",
       "      <th>patents</th>\n",
       "      <th>score</th>\n",
       "      <th>year</th>\n",
       "    </tr>\n",
       "  </thead>\n",
       "  <tbody>\n",
       "    <tr>\n",
       "      <th>13</th>\n",
       "      <td>14</td>\n",
       "      <td>University of Tokyo</td>\n",
       "      <td>Japan</td>\n",
       "      <td>1</td>\n",
       "      <td>32</td>\n",
       "      <td>19</td>\n",
       "      <td>31</td>\n",
       "      <td>8</td>\n",
       "      <td>19</td>\n",
       "      <td>23</td>\n",
       "      <td>NaN</td>\n",
       "      <td>3</td>\n",
       "      <td>69.49</td>\n",
       "      <td>2012</td>\n",
       "    </tr>\n",
       "    <tr>\n",
       "      <th>113</th>\n",
       "      <td>14</td>\n",
       "      <td>University of Tokyo</td>\n",
       "      <td>Japan</td>\n",
       "      <td>1</td>\n",
       "      <td>17</td>\n",
       "      <td>3</td>\n",
       "      <td>32</td>\n",
       "      <td>14</td>\n",
       "      <td>23</td>\n",
       "      <td>29</td>\n",
       "      <td>NaN</td>\n",
       "      <td>5</td>\n",
       "      <td>76.23</td>\n",
       "      <td>2013</td>\n",
       "    </tr>\n",
       "    <tr>\n",
       "      <th>212</th>\n",
       "      <td>13</td>\n",
       "      <td>University of Tokyo</td>\n",
       "      <td>Japan</td>\n",
       "      <td>1</td>\n",
       "      <td>17</td>\n",
       "      <td>3</td>\n",
       "      <td>33</td>\n",
       "      <td>12</td>\n",
       "      <td>16</td>\n",
       "      <td>28</td>\n",
       "      <td>26.0</td>\n",
       "      <td>14</td>\n",
       "      <td>80.64</td>\n",
       "      <td>2014</td>\n",
       "    </tr>\n",
       "    <tr>\n",
       "      <th>1212</th>\n",
       "      <td>13</td>\n",
       "      <td>University of Tokyo</td>\n",
       "      <td>Japan</td>\n",
       "      <td>1</td>\n",
       "      <td>16</td>\n",
       "      <td>3</td>\n",
       "      <td>38</td>\n",
       "      <td>14</td>\n",
       "      <td>19</td>\n",
       "      <td>31</td>\n",
       "      <td>29.0</td>\n",
       "      <td>7</td>\n",
       "      <td>78.23</td>\n",
       "      <td>2015</td>\n",
       "    </tr>\n",
       "  </tbody>\n",
       "</table>\n",
       "</div>"
      ],
      "text/plain": [
       "      world_rank          institution country  national_rank  \\\n",
       "13            14  University of Tokyo   Japan              1   \n",
       "113           14  University of Tokyo   Japan              1   \n",
       "212           13  University of Tokyo   Japan              1   \n",
       "1212          13  University of Tokyo   Japan              1   \n",
       "\n",
       "      quality_of_education  alumni_employment  quality_of_faculty  \\\n",
       "13                      32                 19                  31   \n",
       "113                     17                  3                  32   \n",
       "212                     17                  3                  33   \n",
       "1212                    16                  3                  38   \n",
       "\n",
       "      publications  influence  citations  broad_impact  patents  score  year  \n",
       "13               8         19         23           NaN        3  69.49  2012  \n",
       "113             14         23         29           NaN        5  76.23  2013  \n",
       "212             12         16         28          26.0       14  80.64  2014  \n",
       "1212            14         19         31          29.0        7  78.23  2015  "
      ]
     },
     "execution_count": 23,
     "metadata": {},
     "output_type": "execute_result"
    }
   ],
   "source": [
    "ut.head()"
   ]
  },
  {
   "cell_type": "markdown",
   "metadata": {
    "_uuid": "8d43f2a85f5f591c7224dee21561a66a965cce33",
    "collapsed": true
   },
   "source": [
    "# 4. Conclusion\n",
    "\n",
    " - In terms of world ranking, south kore is leaving behind of Japan and China out of Top 100.\n",
    " It's needed to be digging into which sector affects to the result. <br/>\n",
    "\n",
    " - In case of Korean univerisities, there is not much difference between 2014 and 2015\n"
   ]
  }
 ],
 "metadata": {
  "kernelspec": {
   "display_name": "Python 3",
   "language": "python",
   "name": "python3"
  },
  "language_info": {
   "codemirror_mode": {
    "name": "ipython",
    "version": 3
   },
   "file_extension": ".py",
   "mimetype": "text/x-python",
   "name": "python",
   "nbconvert_exporter": "python",
   "pygments_lexer": "ipython3",
   "version": "3.6.5"
  }
 },
 "nbformat": 4,
 "nbformat_minor": 1
}
